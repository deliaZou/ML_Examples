{
 "cells": [
  {
   "cell_type": "code",
   "execution_count": null,
   "metadata": {},
   "outputs": [],
   "source": [
    "'''目标：\n",
    "1，爬取豆瓣电影top250\n",
    "2，爬取电影详情信息\n",
    "3，爬取演员详情信息\n",
    "'''"
   ]
  },
  {
   "cell_type": "code",
   "execution_count": 1,
   "metadata": {},
   "outputs": [
    {
     "data": {
      "text/plain": [
       "'接口：\\n\\n'"
      ]
     },
     "execution_count": 1,
     "metadata": {},
     "output_type": "execute_result"
    }
   ],
   "source": [
    "'''接口：\n",
    "1,  TOP 250 \thttp://api.douban.com/v2/movie/top250 \tstart: 数据的开始项;count: 单页条数\n",
    "\n",
    "'''"
   ]
  },
  {
   "cell_type": "code",
   "execution_count": 8,
   "metadata": {},
   "outputs": [],
   "source": [
    "import json\n",
    "import requests\n",
    "import os\n",
    "from tqdm import tqdm_notebook\n",
    "import operator"
   ]
  },
  {
   "cell_type": "code",
   "execution_count": 73,
   "metadata": {},
   "outputs": [],
   "source": [
    "#新建文件夹\n",
    "if not os.path.exists('top250'):\n",
    "    os.mkdir('top250')"
   ]
  },
  {
   "cell_type": "code",
   "execution_count": 124,
   "metadata": {},
   "outputs": [
    {
     "data": {
      "application/vnd.jupyter.widget-view+json": {
       "model_id": "40b3a16d3fe044308a05079abc7b744b",
       "version_major": 2,
       "version_minor": 0
      },
      "text/plain": [
       "HBox(children=(IntProgress(value=0, max=25), HTML(value='')))"
      ]
     },
     "metadata": {},
     "output_type": "display_data"
    },
    {
     "name": "stdout",
     "output_type": "stream",
     "text": [
      "\n"
     ]
    }
   ],
   "source": [
    "#爬取全部250部电影\n",
    "access_key = '0df993c66c0c636e29ecbb5344252a4a'  # api key\n",
    "headers = {'User-Agent': 'Mozilla/5.0 (Windows NT 10.0; Win64; x64) AppleWebKit/537.36 (KHTML, like Gecko) Chrome/55.0.2883.87 Safari/537.36'}\n",
    "for i in tqdm_notebook(range(25)):\n",
    "    url = f'https://api.douban.com/v2/movie/top250?apikey={access_key}&start={i*10}&count={10}'\n",
    "    \n",
    "    json_file_path = os.path.join('top250', '{}.json'.format(i))\n",
    "    if os.path.exists(json_file_path):  #若已爬过，跳过\n",
    "        continue  \n",
    "        \n",
    "    #防止超时，访问接口直到访问成功\n",
    "    while True:\n",
    "        try:\n",
    "            response = requests.get(url,headers = headers,timeout = 5)\n",
    "            break\n",
    "        except requests.exceptions.Timeout:\n",
    "            time.sleep(1)\n",
    "            \n",
    "    #写入文件\n",
    "    with open(json_file_path,'w',encoding='utf-8') as f:\n",
    "        f.write(json.dumps(json.loads(response.content.decode('utf-8')),indent=4,ensure_ascii=False))\n",
    "        #indent=4:对齐 ensure_ascii=False:编码中文 json.dumps()用于将字典形式的数据转化为字符串，json.loads()用于将字符串形式的数据转化为字典"
   ]
  },
  {
   "cell_type": "code",
   "execution_count": 125,
   "metadata": {},
   "outputs": [
    {
     "data": {
      "application/vnd.jupyter.widget-view+json": {
       "model_id": "3aae01e5a4c84027bfe20766de25fd38",
       "version_major": 2,
       "version_minor": 0
      },
      "text/plain": [
       "HBox(children=(IntProgress(value=0, max=25), HTML(value='')))"
      ]
     },
     "metadata": {},
     "output_type": "display_data"
    },
    {
     "name": "stdout",
     "output_type": "stream",
     "text": [
      "\n"
     ]
    }
   ],
   "source": [
    "#将上面取的文件合并为top250.json\n",
    "movies = []\n",
    "for json_file in tqdm_notebook(os.listdir('top250')):\n",
    "    json_file_path = os.path.join('top250', json_file)\n",
    "    with open(json_file_path,'r',encoding = 'utf8') as f:\n",
    "        \n",
    "        movies += json.load(f)['subjects']\n",
    "\n",
    "#按平均分降序排序\n",
    "movies = sorted(movies,\n",
    "               key = lambda movie: movie['rating']['average'],reverse= True)\n",
    "\n",
    "#写入文件\n",
    "with open('top250.json','w',encoding = 'utf8') as f:\n",
    "    f.write(json.dumps({'subjects':movies},indent=4,ensure_ascii=False))\n",
    "    "
   ]
  },
  {
   "cell_type": "code",
   "execution_count": null,
   "metadata": {},
   "outputs": [],
   "source": [
    "#爬取演员数据（周星驰）"
   ]
  },
  {
   "cell_type": "code",
   "execution_count": 128,
   "metadata": {},
   "outputs": [
    {
     "data": {
      "text/plain": [
       "{'website': '',\n",
       " 'mobile_url': 'https://movie.douban.com/celebrity/1048026/mobile',\n",
       " 'aka_en': ['Sing-Chi Chow (本名)', 'Sing Jai (昵称)'],\n",
       " 'name': '周星驰',\n",
       " 'works': [{'roles': ['演员'],\n",
       "   'subject': {'rating': {'max': 10,\n",
       "     'average': 9.2,\n",
       "     'details': {'1': 1942.0,\n",
       "      '3': 45618.0,\n",
       "      '2': 3531.0,\n",
       "      '5': 514550.0,\n",
       "      '4': 201225.0},\n",
       "     'stars': '45',\n",
       "     'min': 0},\n",
       "    'genres': ['喜剧', '爱情', '奇幻'],\n",
       "    'title': '大话西游之大圣娶亲',\n",
       "    'casts': [{'avatars': {'small': 'http://img3.doubanio.com/view/celebrity/s_ratio_celebrity/public/p47421.jpg',\n",
       "       'large': 'http://img3.doubanio.com/view/celebrity/s_ratio_celebrity/public/p47421.jpg',\n",
       "       'medium': 'http://img3.doubanio.com/view/celebrity/s_ratio_celebrity/public/p47421.jpg'},\n",
       "      'name_en': 'Stephen Chow',\n",
       "      'name': '周星驰',\n",
       "      'alt': 'https://movie.douban.com/celebrity/1048026/',\n",
       "      'id': '1048026'},\n",
       "     {'avatars': {'small': 'http://img3.doubanio.com/view/celebrity/s_ratio_celebrity/public/p45481.jpg',\n",
       "       'large': 'http://img3.doubanio.com/view/celebrity/s_ratio_celebrity/public/p45481.jpg',\n",
       "       'medium': 'http://img3.doubanio.com/view/celebrity/s_ratio_celebrity/public/p45481.jpg'},\n",
       "      'name_en': 'Man Tat Ng',\n",
       "      'name': '吴孟达',\n",
       "      'alt': 'https://movie.douban.com/celebrity/1016771/',\n",
       "      'id': '1016771'},\n",
       "     {'avatars': {'small': 'http://img1.doubanio.com/view/celebrity/s_ratio_celebrity/public/p49237.jpg',\n",
       "       'large': 'http://img1.doubanio.com/view/celebrity/s_ratio_celebrity/public/p49237.jpg',\n",
       "       'medium': 'http://img1.doubanio.com/view/celebrity/s_ratio_celebrity/public/p49237.jpg'},\n",
       "      'name_en': 'Athena Chu',\n",
       "      'name': '朱茵',\n",
       "      'alt': 'https://movie.douban.com/celebrity/1041734/',\n",
       "      'id': '1041734'}],\n",
       "    'durations': ['95分钟', '110分钟(重映版)'],\n",
       "    'collect_count': 1446841,\n",
       "    'mainland_pubdate': '2014-10-24',\n",
       "    'has_video': True,\n",
       "    'original_title': '西遊記大結局之仙履奇緣',\n",
       "    'subtype': 'movie',\n",
       "    'directors': [{'avatars': {'small': 'http://img9.doubanio.com/view/celebrity/s_ratio_celebrity/public/p45374.jpg',\n",
       "       'large': 'http://img9.doubanio.com/view/celebrity/s_ratio_celebrity/public/p45374.jpg',\n",
       "       'medium': 'http://img9.doubanio.com/view/celebrity/s_ratio_celebrity/public/p45374.jpg'},\n",
       "      'name_en': 'Jeffrey Lau',\n",
       "      'name': '刘镇伟',\n",
       "      'alt': 'https://movie.douban.com/celebrity/1274431/',\n",
       "      'id': '1274431'}],\n",
       "    'pubdates': ['1995-02-04(中国香港)', '2014-10-24(中国大陆)', '2017-04-13(中国大陆重映)'],\n",
       "    'year': '1995',\n",
       "    'images': {'small': 'http://img9.doubanio.com/view/photo/s_ratio_poster/public/p2455050536.jpg',\n",
       "     'large': 'http://img9.doubanio.com/view/photo/s_ratio_poster/public/p2455050536.jpg',\n",
       "     'medium': 'http://img9.doubanio.com/view/photo/s_ratio_poster/public/p2455050536.jpg'},\n",
       "    'alt': 'https://movie.douban.com/subject/1292213/',\n",
       "    'id': '1292213'}},\n",
       "  {'roles': ['演员'],\n",
       "   'subject': {'rating': {'max': 10,\n",
       "     'average': 9.1,\n",
       "     'details': {'1': 454.0,\n",
       "      '3': 2542.0,\n",
       "      '2': 272.0,\n",
       "      '5': 27543.0,\n",
       "      '4': 11333.0},\n",
       "     'stars': '45',\n",
       "     'min': 0},\n",
       "    'genres': ['剧情', '动作', '武侠'],\n",
       "    'title': '射雕英雄传',\n",
       "    'casts': [{'avatars': {'small': 'http://img3.doubanio.com/view/celebrity/s_ratio_celebrity/public/p2365.jpg',\n",
       "       'large': 'http://img3.doubanio.com/view/celebrity/s_ratio_celebrity/public/p2365.jpg',\n",
       "       'medium': 'http://img3.doubanio.com/view/celebrity/s_ratio_celebrity/public/p2365.jpg'},\n",
       "      'name_en': 'Felix Wong',\n",
       "      'name': '黄日华',\n",
       "      'alt': 'https://movie.douban.com/celebrity/1050735/',\n",
       "      'id': '1050735'},\n",
       "     {'avatars': {'small': 'http://img3.doubanio.com/view/celebrity/s_ratio_celebrity/public/p6690.jpg',\n",
       "       'large': 'http://img3.doubanio.com/view/celebrity/s_ratio_celebrity/public/p6690.jpg',\n",
       "       'medium': 'http://img3.doubanio.com/view/celebrity/s_ratio_celebrity/public/p6690.jpg'},\n",
       "      'name_en': 'Barbara Yung',\n",
       "      'name': '翁美玲',\n",
       "      'alt': 'https://movie.douban.com/celebrity/1125851/',\n",
       "      'id': '1125851'},\n",
       "     {'avatars': {'small': 'http://img1.doubanio.com/view/celebrity/s_ratio_celebrity/public/p2247.jpg',\n",
       "       'large': 'http://img1.doubanio.com/view/celebrity/s_ratio_celebrity/public/p2247.jpg',\n",
       "       'medium': 'http://img1.doubanio.com/view/celebrity/s_ratio_celebrity/public/p2247.jpg'},\n",
       "      'name_en': 'Kiu Wai Miu',\n",
       "      'name': '苗侨伟',\n",
       "      'alt': 'https://movie.douban.com/celebrity/1115415/',\n",
       "      'id': '1115415'}],\n",
       "    'durations': ['42分钟'],\n",
       "    'collect_count': 69340,\n",
       "    'mainland_pubdate': '',\n",
       "    'has_video': True,\n",
       "    'original_title': '射鵰英雄傳',\n",
       "    'subtype': 'tv',\n",
       "    'directors': [{'avatars': {'small': 'http://img9.doubanio.com/view/celebrity/s_ratio_celebrity/public/p3416.jpg',\n",
       "       'large': 'http://img9.doubanio.com/view/celebrity/s_ratio_celebrity/public/p3416.jpg',\n",
       "       'medium': 'http://img9.doubanio.com/view/celebrity/s_ratio_celebrity/public/p3416.jpg'},\n",
       "      'name_en': 'Tian-lin Wang',\n",
       "      'name': '王天林',\n",
       "      'alt': 'https://movie.douban.com/celebrity/1041074/',\n",
       "      'id': '1041074'},\n",
       "     {'avatars': {'small': 'http://img3.doubanio.com/view/celebrity/s_ratio_celebrity/public/p851.jpg',\n",
       "       'large': 'http://img3.doubanio.com/view/celebrity/s_ratio_celebrity/public/p851.jpg',\n",
       "       'medium': 'http://img3.doubanio.com/view/celebrity/s_ratio_celebrity/public/p851.jpg'},\n",
       "      'name_en': 'Johnnie To',\n",
       "      'name': '杜琪峰',\n",
       "      'alt': 'https://movie.douban.com/celebrity/1160186/',\n",
       "      'id': '1160186'}],\n",
       "    'pubdates': ['1983-05-24(中国香港)'],\n",
       "    'year': '1983',\n",
       "    'images': {'small': 'http://img1.doubanio.com/view/photo/s_ratio_poster/public/p2538637598.jpg',\n",
       "     'large': 'http://img1.doubanio.com/view/photo/s_ratio_poster/public/p2538637598.jpg',\n",
       "     'medium': 'http://img1.doubanio.com/view/photo/s_ratio_poster/public/p2538637598.jpg'},\n",
       "    'alt': 'https://movie.douban.com/subject/1478186/',\n",
       "    'id': '1478186'}},\n",
       "  {'roles': ['演员'],\n",
       "   'subject': {'rating': {'max': 10,\n",
       "     'average': 9.0,\n",
       "     'details': {'1': 1354.0,\n",
       "      '3': 50225.0,\n",
       "      '2': 3476.0,\n",
       "      '5': 367316.0,\n",
       "      '4': 206088.0},\n",
       "     'stars': '45',\n",
       "     'min': 0},\n",
       "    'genres': ['喜剧', '爱情', '奇幻'],\n",
       "    'title': '大话西游之月光宝盒',\n",
       "    'casts': [{'avatars': {'small': 'http://img3.doubanio.com/view/celebrity/s_ratio_celebrity/public/p47421.jpg',\n",
       "       'large': 'http://img3.doubanio.com/view/celebrity/s_ratio_celebrity/public/p47421.jpg',\n",
       "       'medium': 'http://img3.doubanio.com/view/celebrity/s_ratio_celebrity/public/p47421.jpg'},\n",
       "      'name_en': 'Stephen Chow',\n",
       "      'name': '周星驰',\n",
       "      'alt': 'https://movie.douban.com/celebrity/1048026/',\n",
       "      'id': '1048026'},\n",
       "     {'avatars': {'small': 'http://img3.doubanio.com/view/celebrity/s_ratio_celebrity/public/p45481.jpg',\n",
       "       'large': 'http://img3.doubanio.com/view/celebrity/s_ratio_celebrity/public/p45481.jpg',\n",
       "       'medium': 'http://img3.doubanio.com/view/celebrity/s_ratio_celebrity/public/p45481.jpg'},\n",
       "      'name_en': 'Man Tat Ng',\n",
       "      'name': '吴孟达',\n",
       "      'alt': 'https://movie.douban.com/celebrity/1016771/',\n",
       "      'id': '1016771'},\n",
       "     {'avatars': {'small': 'http://img3.doubanio.com/view/celebrity/s_ratio_celebrity/public/p1566882903.33.jpg',\n",
       "       'large': 'http://img3.doubanio.com/view/celebrity/s_ratio_celebrity/public/p1566882903.33.jpg',\n",
       "       'medium': 'http://img3.doubanio.com/view/celebrity/s_ratio_celebrity/public/p1566882903.33.jpg'},\n",
       "      'name_en': 'Kar-Ying Law',\n",
       "      'name': '罗家英',\n",
       "      'alt': 'https://movie.douban.com/celebrity/1108968/',\n",
       "      'id': '1108968'}],\n",
       "    'durations': ['87分钟'],\n",
       "    'collect_count': 1265955,\n",
       "    'mainland_pubdate': '2014-10-24',\n",
       "    'has_video': True,\n",
       "    'original_title': '西遊記第壹佰零壹回之月光寶盒',\n",
       "    'subtype': 'movie',\n",
       "    'directors': [{'avatars': {'small': 'http://img9.doubanio.com/view/celebrity/s_ratio_celebrity/public/p45374.jpg',\n",
       "       'large': 'http://img9.doubanio.com/view/celebrity/s_ratio_celebrity/public/p45374.jpg',\n",
       "       'medium': 'http://img9.doubanio.com/view/celebrity/s_ratio_celebrity/public/p45374.jpg'},\n",
       "      'name_en': 'Jeffrey Lau',\n",
       "      'name': '刘镇伟',\n",
       "      'alt': 'https://movie.douban.com/celebrity/1274431/',\n",
       "      'id': '1274431'}],\n",
       "    'pubdates': ['1995-01-21(中国香港)', '2014-10-24(中国大陆)'],\n",
       "    'year': '1995',\n",
       "    'images': {'small': 'http://img3.doubanio.com/view/photo/s_ratio_poster/public/p2561721372.jpg',\n",
       "     'large': 'http://img3.doubanio.com/view/photo/s_ratio_poster/public/p2561721372.jpg',\n",
       "     'medium': 'http://img3.doubanio.com/view/photo/s_ratio_poster/public/p2561721372.jpg'},\n",
       "    'alt': 'https://movie.douban.com/subject/1299398/',\n",
       "    'id': '1299398'}},\n",
       "  {'roles': ['演员', '导演', '编剧'],\n",
       "   'subject': {'rating': {'max': 10,\n",
       "     'average': 8.7,\n",
       "     'details': {'1': 644.0,\n",
       "      '3': 52221.0,\n",
       "      '2': 3322.0,\n",
       "      '5': 229041.0,\n",
       "      '4': 192203.0},\n",
       "     'stars': '45',\n",
       "     'min': 0},\n",
       "    'genres': ['喜剧', '剧情', '爱情'],\n",
       "    'title': '喜剧之王',\n",
       "    'casts': [{'avatars': {'small': 'http://img3.doubanio.com/view/celebrity/s_ratio_celebrity/public/p47421.jpg',\n",
       "       'large': 'http://img3.doubanio.com/view/celebrity/s_ratio_celebrity/public/p47421.jpg',\n",
       "       'medium': 'http://img3.doubanio.com/view/celebrity/s_ratio_celebrity/public/p47421.jpg'},\n",
       "      'name_en': 'Stephen Chow',\n",
       "      'name': '周星驰',\n",
       "      'alt': 'https://movie.douban.com/celebrity/1048026/',\n",
       "      'id': '1048026'},\n",
       "     {'avatars': {'small': 'http://img3.doubanio.com/view/celebrity/s_ratio_celebrity/public/p1394446025.33.jpg',\n",
       "       'large': 'http://img3.doubanio.com/view/celebrity/s_ratio_celebrity/public/p1394446025.33.jpg',\n",
       "       'medium': 'http://img3.doubanio.com/view/celebrity/s_ratio_celebrity/public/p1394446025.33.jpg'},\n",
       "      'name_en': 'Cecilia Cheung',\n",
       "      'name': '张柏芝',\n",
       "      'alt': 'https://movie.douban.com/celebrity/1003495/',\n",
       "      'id': '1003495'},\n",
       "     {'avatars': {'small': 'http://img1.doubanio.com/view/celebrity/s_ratio_celebrity/public/p979.jpg',\n",
       "       'large': 'http://img1.doubanio.com/view/celebrity/s_ratio_celebrity/public/p979.jpg',\n",
       "       'medium': 'http://img1.doubanio.com/view/celebrity/s_ratio_celebrity/public/p979.jpg'},\n",
       "      'name_en': 'Karen Mok',\n",
       "      'name': '莫文蔚',\n",
       "      'alt': 'https://movie.douban.com/celebrity/1018248/',\n",
       "      'id': '1018248'}],\n",
       "    'durations': ['85分钟', '89分钟(DVD)'],\n",
       "    'collect_count': 950682,\n",
       "    'mainland_pubdate': '',\n",
       "    'has_video': True,\n",
       "    'original_title': '喜劇之王',\n",
       "    'subtype': 'movie',\n",
       "    'directors': [{'avatars': {'small': 'http://img3.doubanio.com/view/celebrity/s_ratio_celebrity/public/p47421.jpg',\n",
       "       'large': 'http://img3.doubanio.com/view/celebrity/s_ratio_celebrity/public/p47421.jpg',\n",
       "       'medium': 'http://img3.doubanio.com/view/celebrity/s_ratio_celebrity/public/p47421.jpg'},\n",
       "      'name_en': 'Stephen Chow',\n",
       "      'name': '周星驰',\n",
       "      'alt': 'https://movie.douban.com/celebrity/1048026/',\n",
       "      'id': '1048026'},\n",
       "     {'avatars': {'small': 'http://img1.doubanio.com/view/celebrity/s_ratio_celebrity/public/p51748.jpg',\n",
       "       'large': 'http://img1.doubanio.com/view/celebrity/s_ratio_celebrity/public/p51748.jpg',\n",
       "       'medium': 'http://img1.doubanio.com/view/celebrity/s_ratio_celebrity/public/p51748.jpg'},\n",
       "      'name_en': 'Lik-Chi Lee',\n",
       "      'name': '李力持',\n",
       "      'alt': 'https://movie.douban.com/celebrity/1274246/',\n",
       "      'id': '1274246'}],\n",
       "    'pubdates': ['1999-02-13(中国香港)'],\n",
       "    'year': '1999',\n",
       "    'images': {'small': 'http://img9.doubanio.com/view/photo/s_ratio_poster/public/p1043597424.jpg',\n",
       "     'large': 'http://img9.doubanio.com/view/photo/s_ratio_poster/public/p1043597424.jpg',\n",
       "     'medium': 'http://img9.doubanio.com/view/photo/s_ratio_poster/public/p1043597424.jpg'},\n",
       "    'alt': 'https://movie.douban.com/subject/1302425/',\n",
       "    'id': '1302425'}},\n",
       "  {'roles': ['演员'],\n",
       "   'subject': {'rating': {'max': 10,\n",
       "     'average': 8.6,\n",
       "     'details': {'1': 711.0,\n",
       "      '3': 63902.0,\n",
       "      '2': 3580.0,\n",
       "      '5': 222520.0,\n",
       "      '4': 225433.0},\n",
       "     'stars': '45',\n",
       "     'min': 0},\n",
       "    'genres': ['喜剧', '爱情', '古装'],\n",
       "    'title': '唐伯虎点秋香',\n",
       "    'casts': [{'avatars': {'small': 'http://img3.doubanio.com/view/celebrity/s_ratio_celebrity/public/p47421.jpg',\n",
       "       'large': 'http://img3.doubanio.com/view/celebrity/s_ratio_celebrity/public/p47421.jpg',\n",
       "       'medium': 'http://img3.doubanio.com/view/celebrity/s_ratio_celebrity/public/p47421.jpg'},\n",
       "      'name_en': 'Stephen Chow',\n",
       "      'name': '周星驰',\n",
       "      'alt': 'https://movie.douban.com/celebrity/1048026/',\n",
       "      'id': '1048026'},\n",
       "     {'avatars': {'small': 'http://img1.doubanio.com/view/celebrity/s_ratio_celebrity/public/p1399268395.47.jpg',\n",
       "       'large': 'http://img1.doubanio.com/view/celebrity/s_ratio_celebrity/public/p1399268395.47.jpg',\n",
       "       'medium': 'http://img1.doubanio.com/view/celebrity/s_ratio_celebrity/public/p1399268395.47.jpg'},\n",
       "      'name_en': 'Li Gong',\n",
       "      'name': '巩俐',\n",
       "      'alt': 'https://movie.douban.com/celebrity/1035641/',\n",
       "      'id': '1035641'},\n",
       "     {'avatars': {'small': 'http://img9.doubanio.com/view/celebrity/s_ratio_celebrity/public/p796.jpg',\n",
       "       'large': 'http://img9.doubanio.com/view/celebrity/s_ratio_celebrity/public/p796.jpg',\n",
       "       'medium': 'http://img9.doubanio.com/view/celebrity/s_ratio_celebrity/public/p796.jpg'},\n",
       "      'name_en': 'Pak-cheung Chan',\n",
       "      'name': '陈百祥',\n",
       "      'alt': 'https://movie.douban.com/celebrity/1070608/',\n",
       "      'id': '1070608'}],\n",
       "    'durations': ['102 分钟'],\n",
       "    'collect_count': 1090870,\n",
       "    'mainland_pubdate': '',\n",
       "    'has_video': True,\n",
       "    'original_title': '唐伯虎點秋香',\n",
       "    'subtype': 'movie',\n",
       "    'directors': [{'avatars': {'small': 'http://img1.doubanio.com/view/celebrity/s_ratio_celebrity/public/p51748.jpg',\n",
       "       'large': 'http://img1.doubanio.com/view/celebrity/s_ratio_celebrity/public/p51748.jpg',\n",
       "       'medium': 'http://img1.doubanio.com/view/celebrity/s_ratio_celebrity/public/p51748.jpg'},\n",
       "      'name_en': 'Lik-Chi Lee',\n",
       "      'name': '李力持',\n",
       "      'alt': 'https://movie.douban.com/celebrity/1274246/',\n",
       "      'id': '1274246'}],\n",
       "    'pubdates': ['1993-07-01(中国香港)'],\n",
       "    'year': '1993',\n",
       "    'images': {'small': 'http://img3.doubanio.com/view/photo/s_ratio_poster/public/p1946455272.jpg',\n",
       "     'large': 'http://img3.doubanio.com/view/photo/s_ratio_poster/public/p1946455272.jpg',\n",
       "     'medium': 'http://img3.doubanio.com/view/photo/s_ratio_poster/public/p1946455272.jpg'},\n",
       "    'alt': 'https://movie.douban.com/subject/1306249/',\n",
       "    'id': '1306249'}}],\n",
       " 'name_en': 'Stephen Chow',\n",
       " 'gender': '男',\n",
       " 'professions': ['', '', '编剧', '导演', '制片人'],\n",
       " 'avatars': {'small': 'http://img3.doubanio.com/view/celebrity/s_ratio_celebrity/public/p47421.jpg',\n",
       "  'large': 'http://img3.doubanio.com/view/celebrity/s_ratio_celebrity/public/p47421.jpg',\n",
       "  'medium': 'http://img3.doubanio.com/view/celebrity/s_ratio_celebrity/public/p47421.jpg'},\n",
       " 'summary': '周星驰（1962年6月22日— ），生于香港，英文名Stephen Chow，著名演员，兼导演、编剧、电影监制以及电影制作人。曾主演《九品芝麻官》、《长江七号》等多部喜剧影片。捧红过张柏芝、张雨绮等影星。曾获1998年国际杰人会港澳杰人之星奖。其与成龙和周润发并称“双周一成”，意为香港电影票房的保证。\\r\\n',\n",
       " 'photos': [{'thumb': 'https://img3.doubanio.com/view/photo/m/public/p2154939985.jpg',\n",
       "   'image': 'https://img3.doubanio.com/view/photo/l/public/p2154939985.jpg',\n",
       "   'cover': 'https://img3.doubanio.com/view/photo/sqs/public/p2154939985.jpg',\n",
       "   'alt': 'https://movie.douban.com/celebrity/1048026/photo/2154939985/',\n",
       "   'id': '2154939985',\n",
       "   'icon': 'https://img3.doubanio.com/view/photo/s/public/p2154939985.jpg'},\n",
       "  {'thumb': 'https://img1.doubanio.com/view/photo/m/public/p1635406128.jpg',\n",
       "   'image': 'https://img1.doubanio.com/view/photo/l/public/p1635406128.jpg',\n",
       "   'cover': 'https://img1.doubanio.com/view/photo/sqs/public/p1635406128.jpg',\n",
       "   'alt': 'https://movie.douban.com/celebrity/1048026/photo/1635406128/',\n",
       "   'id': '1635406128',\n",
       "   'icon': 'https://img1.doubanio.com/view/photo/s/public/p1635406128.jpg'},\n",
       "  {'thumb': 'https://img1.doubanio.com/view/photo/m/public/p1545600068.jpg',\n",
       "   'image': 'https://img1.doubanio.com/view/photo/l/public/p1545600068.jpg',\n",
       "   'cover': 'https://img1.doubanio.com/view/photo/sqs/public/p1545600068.jpg',\n",
       "   'alt': 'https://movie.douban.com/celebrity/1048026/photo/1545600068/',\n",
       "   'id': '1545600068',\n",
       "   'icon': 'https://img1.doubanio.com/view/photo/s/public/p1545600068.jpg'},\n",
       "  {'thumb': 'https://img3.doubanio.com/view/photo/m/public/p1871344945.jpg',\n",
       "   'image': 'https://img3.doubanio.com/view/photo/l/public/p1871344945.jpg',\n",
       "   'cover': 'https://img3.doubanio.com/view/photo/sqs/public/p1871344945.jpg',\n",
       "   'alt': 'https://movie.douban.com/celebrity/1048026/photo/1871344945/',\n",
       "   'id': '1871344945',\n",
       "   'icon': 'https://img3.doubanio.com/view/photo/s/public/p1871344945.jpg'},\n",
       "  {'thumb': 'https://img3.doubanio.com/view/photo/m/public/p2564990993.jpg',\n",
       "   'image': 'https://img3.doubanio.com/view/photo/l/public/p2564990993.jpg',\n",
       "   'cover': 'https://img3.doubanio.com/view/photo/sqs/public/p2564990993.jpg',\n",
       "   'alt': 'https://movie.douban.com/celebrity/1048026/photo/2564990993/',\n",
       "   'id': '2564990993',\n",
       "   'icon': 'https://img3.doubanio.com/view/photo/s/public/p2564990993.jpg'},\n",
       "  {'thumb': 'https://img1.doubanio.com/view/photo/m/public/p1799134228.jpg',\n",
       "   'image': 'https://img1.doubanio.com/view/photo/l/public/p1799134228.jpg',\n",
       "   'cover': 'https://img1.doubanio.com/view/photo/sqs/public/p1799134228.jpg',\n",
       "   'alt': 'https://movie.douban.com/celebrity/1048026/photo/1799134228/',\n",
       "   'id': '1799134228',\n",
       "   'icon': 'https://img1.doubanio.com/view/photo/s/public/p1799134228.jpg'},\n",
       "  {'thumb': 'https://img3.doubanio.com/view/photo/m/public/p1884583560.jpg',\n",
       "   'image': 'https://img3.doubanio.com/view/photo/l/public/p1884583560.jpg',\n",
       "   'cover': 'https://img3.doubanio.com/view/photo/sqs/public/p1884583560.jpg',\n",
       "   'alt': 'https://movie.douban.com/celebrity/1048026/photo/1884583560/',\n",
       "   'id': '1884583560',\n",
       "   'icon': 'https://img3.doubanio.com/view/photo/s/public/p1884583560.jpg'},\n",
       "  {'thumb': 'https://img3.doubanio.com/view/photo/m/public/p1826590363.jpg',\n",
       "   'image': 'https://img3.doubanio.com/view/photo/l/public/p1826590363.jpg',\n",
       "   'cover': 'https://img3.doubanio.com/view/photo/sqs/public/p1826590363.jpg',\n",
       "   'alt': 'https://movie.douban.com/celebrity/1048026/photo/1826590363/',\n",
       "   'id': '1826590363',\n",
       "   'icon': 'https://img3.doubanio.com/view/photo/s/public/p1826590363.jpg'},\n",
       "  {'thumb': 'https://img1.doubanio.com/view/photo/m/public/p2210525717.jpg',\n",
       "   'image': 'https://img1.doubanio.com/view/photo/l/public/p2210525717.jpg',\n",
       "   'cover': 'https://img1.doubanio.com/view/photo/sqs/public/p2210525717.jpg',\n",
       "   'alt': 'https://movie.douban.com/celebrity/1048026/photo/2210525717/',\n",
       "   'id': '2210525717',\n",
       "   'icon': 'https://img1.doubanio.com/view/photo/s/public/p2210525717.jpg'},\n",
       "  {'thumb': 'https://img3.doubanio.com/view/photo/m/public/p643014025.jpg',\n",
       "   'image': 'https://img3.doubanio.com/view/photo/l/public/p643014025.jpg',\n",
       "   'cover': 'https://img3.doubanio.com/view/photo/sqs/public/p643014025.jpg',\n",
       "   'alt': 'https://movie.douban.com/celebrity/1048026/photo/643014025/',\n",
       "   'id': '643014025',\n",
       "   'icon': 'https://img3.doubanio.com/view/photo/s/public/p643014025.jpg'}],\n",
       " 'birthday': '1962-06-22',\n",
       " 'aka': ['星爷(昵称)', '周星星(昵称)'],\n",
       " 'alt': 'https://movie.douban.com/celebrity/1048026/',\n",
       " 'born_place': '中国香港',\n",
       " 'constellation': '巨蟹座',\n",
       " 'id': '1048026'}"
      ]
     },
     "execution_count": 128,
     "metadata": {},
     "output_type": "execute_result"
    }
   ],
   "source": [
    "actor_id = '1048026'\n",
    "headers = {'User-Agent': 'Mozilla/5.0 (Windows NT 10.0; Win64; x64) AppleWebKit/537.36 (KHTML, like Gecko) Chrome/55.0.2883.87 Safari/537.36'}\n",
    "res = requests.get(f'http://api.douban.com/v2/movie/celebrity/{actor_id}?apikey={access_key}',headers=headers)\n",
    "json.loads(res.content.decode('utf-8'))"
   ]
  },
  {
   "cell_type": "code",
   "execution_count": 1,
   "metadata": {},
   "outputs": [],
   "source": [
    "#批量获取接口数据的方法\n",
    "def get(url,headers):\n",
    "    while True:\n",
    "        try:\n",
    "            res = requests.get(url,headers = headers, timeout = 5)\n",
    "            return json.loads(res.content.decode('utf-8'))\n",
    "        except requests.exceptions.Timeout:\n",
    "            time.sleep(1)"
   ]
  },
  {
   "cell_type": "code",
   "execution_count": 6,
   "metadata": {},
   "outputs": [
    {
     "name": "stdout",
     "output_type": "stream",
     "text": [
      "爬取完毕\n"
     ]
    }
   ],
   "source": [
    "import queue\n",
    "import os\n",
    "import requests\n",
    "import json\n",
    "access_key = '0df993c66c0c636e29ecbb5344252a4a'  # api key\n",
    "headers = {'User-Agent': 'Mozilla/5.0 (Windows NT 10.0; Win64; x64) AppleWebKit/537.36 (KHTML, like Gecko) Chrome/55.0.2883.87 Safari/537.36'}\n",
    "# 演员队列初始为周星驰 id\n",
    "actorQ = queue.Queue()\n",
    "actorQ.put('1048026')\n",
    "\n",
    "total = 100\n",
    "# 创建文件夹方便整理数据\n",
    "if not os.path.exists('actors'):\n",
    "    os.mkdir('actors')\n",
    "\n",
    "while not actorQ.empty():\n",
    "    actor_id = actorQ.get()\n",
    "    actor_path = os.path.join('actors', str(actor_id)+'.json')\n",
    "    # 如果已爬取则从本地读取\n",
    "    if os.path.exists(actor_path):\n",
    "        # 读取文件\n",
    "        with open(actor_path,encoding = 'utf-8') as f:\n",
    "            json_content = json.load(f)\n",
    "    # 否则爬取数据\n",
    "    else:\n",
    "        json_content = get(f'http://api.douban.com/v2/movie/celebrity/{actor_id}?apikey={access_key}',headers)\n",
    "        # 爬完后写入本地\n",
    "        with open(actor_path, 'w',encoding = 'utf-8') as f:\n",
    "            f.write(json.dumps(json_content, indent=4, ensure_ascii=False))\n",
    "\n",
    "    # 遍历该演员的电影的其他演员，并将 id 加入 actorQ 重新遍历\n",
    "    for movie in json_content['works']:\n",
    "        for x in movie['subject']['casts']:\n",
    "            # 如果没有该演员的 id 则跳过\n",
    "            if x['id'] == None:\n",
    "                continue\n",
    "            actorQ.put(x['id'])\n",
    "    if len(os.listdir('actors')) > total:\n",
    "        print('爬取完毕')\n",
    "        break"
   ]
  },
  {
   "cell_type": "code",
   "execution_count": 10,
   "metadata": {},
   "outputs": [
    {
     "data": {
      "application/vnd.jupyter.widget-view+json": {
       "model_id": "10a8c170e5724dd7bc35ee7fbdbfa75d",
       "version_major": 2,
       "version_minor": 0
      },
      "text/plain": [
       "HBox(children=(IntProgress(value=0, max=101), HTML(value='')))"
      ]
     },
     "metadata": {},
     "output_type": "display_data"
    },
    {
     "name": "stdout",
     "output_type": "stream",
     "text": [
      "\n"
     ]
    }
   ],
   "source": [
    "\n",
    "actors = {}\n",
    "for json_file in tqdm_notebook(os.listdir('actors')):\n",
    "    json_file_path = os.path.join('actors', json_file)\n",
    "    with open(json_file_path,encoding = 'utf-8') as f:\n",
    "        json_content = json.load(f)\n",
    "        actors[json_content['id']] = json_content\n",
    "# 写入文件\n",
    "with open('actors.json', 'w',encoding = 'utf-8') as f:\n",
    "    f.write(json.dumps({'actors': actors}, indent=4, ensure_ascii=False))    "
   ]
  },
  {
   "cell_type": "code",
   "execution_count": 11,
   "metadata": {},
   "outputs": [],
   "source": [
    "#获取大量电影"
   ]
  },
  {
   "cell_type": "code",
   "execution_count": 14,
   "metadata": {},
   "outputs": [
    {
     "data": {
      "text/plain": [
       "['热门',\n",
       " '最新',\n",
       " '经典',\n",
       " '可播放',\n",
       " '豆瓣高分',\n",
       " '冷门佳片',\n",
       " '华语',\n",
       " '欧美',\n",
       " '韩国',\n",
       " '日本',\n",
       " '动作',\n",
       " '喜剧',\n",
       " '爱情',\n",
       " '科幻',\n",
       " '悬疑',\n",
       " '恐怖',\n",
       " '成长']"
      ]
     },
     "execution_count": 14,
     "metadata": {},
     "output_type": "execute_result"
    }
   ],
   "source": [
    "#获取电影标签\n",
    "tags = get('https://movie.douban.com/j/search_tags?type=movie&source=',headers)['tags']\n",
    "tags"
   ]
  },
  {
   "cell_type": "code",
   "execution_count": 19,
   "metadata": {},
   "outputs": [
    {
     "name": "stdout",
     "output_type": "stream",
     "text": [
      "开始搜索标签「热门」相关的电影 id\n"
     ]
    },
    {
     "data": {
      "application/vnd.jupyter.widget-view+json": {
       "model_id": "55a0a3e39a2145d49f02a94d2ce1abbd",
       "version_major": 2,
       "version_minor": 0
      },
      "text/plain": [
       "HBox(children=(IntProgress(value=0), HTML(value='')))"
      ]
     },
     "metadata": {},
     "output_type": "display_data"
    },
    {
     "name": "stdout",
     "output_type": "stream",
     "text": [
      "\n"
     ]
    }
   ],
   "source": [
    "#每一个标签下获取100部电影信息\n",
    "import time\n",
    "V = 100  # 尝试搜索次数，以获得更多结果\n",
    "id_list = []\n",
    "\n",
    "\n",
    "search_url = '\\\n",
    "https://movie.douban.com/j/search_subjects?type=movie&tag={}&sort=time&page_limit=20&page_start={}'\n",
    "\n",
    "\n",
    "for tag in tags:\n",
    "    print(f\"开始搜索标签「{tag}」相关的电影 id\")\n",
    "    for i in tqdm_notebook(range(V)):\n",
    "        url = search_url.format(tag, 20*i)\n",
    "        json_content = get(url,headers)\n",
    "        id_list += [x['id'] for x in json_content['subjects']]\n",
    "\n",
    "# 去重，一部电影对应多个标签\n",
    "id_list = list(set(id_list))\n",
    "\n",
    "# 写入本地文件\n",
    "with open('movie_id_list.json', 'w',encoding='utf-8') as f:\n",
    "    f.write(json.dumps({'id': id_list}, indent=4, ensure_ascii=False))"
   ]
  },
  {
   "cell_type": "code",
   "execution_count": 25,
   "metadata": {},
   "outputs": [
    {
     "data": {
      "application/vnd.jupyter.widget-view+json": {
       "model_id": "523364d3a5044afdb48a784487e5913b",
       "version_major": 2,
       "version_minor": 0
      },
      "text/plain": [
       "HBox(children=(IntProgress(value=0, max=330), HTML(value='')))"
      ]
     },
     "metadata": {},
     "output_type": "display_data"
    },
    {
     "name": "stdout",
     "output_type": "stream",
     "text": [
      "\n"
     ]
    }
   ],
   "source": [
    "# 新建文件夹方便整理数据\n",
    "if not os.path.exists('movies'):\n",
    "    os.mkdir('movies')\n",
    "\n",
    "# 读取电影 id 数据\n",
    "with open('movie_id_list.json') as f:\n",
    "    id_list = json.load(f)['id']\n",
    "\n",
    "for movie_id in tqdm_notebook(id_list):\n",
    "    url = f'https://api.douban.com/v2/movie/subject/{movie_id}?apikey={access_key}'\n",
    "    json_path = os.path.join('movies', str(movie_id)+'.json')\n",
    "\n",
    "    # 数据已爬取\n",
    "    if os.path.exists(json_path):\n",
    "        with open(json_path) as f:\n",
    "            t = json.load(f)\n",
    "            '''\n",
    "            数据已爬取且没有出错，则跳过本条，例如返回:\n",
    "            {\n",
    "                \"msg\": \"rate_limit_exceeded2: 125.70.79.50\",\n",
    "                \"code\": 112,\n",
    "                \"request\": \"GET /v2/movie/subject/26611090\"\n",
    "            }\n",
    "            则是访问超过限制，重新爬取\n",
    "            '''\n",
    "            try:\n",
    "                if t['code'] == 112:\n",
    "                    pass\n",
    "            except KeyError:\n",
    "                continue\n",
    "    json_content = get(url,headers)\n",
    "    try:\n",
    "        # 返回的数据为上面提起的错误，则跳过这条\n",
    "        if json_content['code'] == 112:\n",
    "            print('访问超过限制，请稍后再试')\n",
    "            time.sleep(10)\n",
    "    except KeyError:\n",
    "        pass\n",
    "\n",
    "    with open(json_path, 'w',encoding='utf-8') as f:\n",
    "        f.write(json.dumps(json_content, indent=4, ensure_ascii=False))"
   ]
  },
  {
   "cell_type": "code",
   "execution_count": 28,
   "metadata": {},
   "outputs": [
    {
     "data": {
      "application/vnd.jupyter.widget-view+json": {
       "model_id": "1cc0b34ae98147999da62a69ecba1e7f",
       "version_major": 2,
       "version_minor": 0
      },
      "text/plain": [
       "HBox(children=(IntProgress(value=0, max=330), HTML(value='')))"
      ]
     },
     "metadata": {},
     "output_type": "display_data"
    },
    {
     "name": "stdout",
     "output_type": "stream",
     "text": [
      "\n"
     ]
    }
   ],
   "source": [
    "movies = []\n",
    "for json_file in tqdm_notebook(os.listdir('movies')):\n",
    "    json_file_path = os.path.join('movies', json_file)\n",
    "    with open(json_file_path,encoding='utf-8') as f:\n",
    "        json_content = json.load(f)\n",
    "        movies += [json_content]\n",
    "\n",
    "# 写入文件\n",
    "with open('movies.json', 'w',encoding='utf-8') as f:\n",
    "    f.write(json.dumps({'movies': movies}, indent=4, ensure_ascii=False))"
   ]
  },
  {
   "cell_type": "code",
   "execution_count": null,
   "metadata": {},
   "outputs": [],
   "source": []
  }
 ],
 "metadata": {
  "kernelspec": {
   "display_name": "Python 3",
   "language": "python",
   "name": "python3"
  },
  "language_info": {
   "codemirror_mode": {
    "name": "ipython",
    "version": 3
   },
   "file_extension": ".py",
   "mimetype": "text/x-python",
   "name": "python",
   "nbconvert_exporter": "python",
   "pygments_lexer": "ipython3",
   "version": "3.7.4"
  }
 },
 "nbformat": 4,
 "nbformat_minor": 2
}
