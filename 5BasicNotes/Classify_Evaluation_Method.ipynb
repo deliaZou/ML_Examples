{
 "cells": [
  {
   "cell_type": "markdown",
   "metadata": {},
   "source": [
    "### 分类模型评价方法"
   ]
  },
  {
   "cell_type": "code",
   "execution_count": 1,
   "metadata": {},
   "outputs": [
    {
     "data": {
      "text/html": [
       "<div>\n",
       "<style scoped>\n",
       "    .dataframe tbody tr th:only-of-type {\n",
       "        vertical-align: middle;\n",
       "    }\n",
       "\n",
       "    .dataframe tbody tr th {\n",
       "        vertical-align: top;\n",
       "    }\n",
       "\n",
       "    .dataframe thead th {\n",
       "        text-align: right;\n",
       "    }\n",
       "</style>\n",
       "<table border=\"1\" class=\"dataframe\">\n",
       "  <thead>\n",
       "    <tr style=\"text-align: right;\">\n",
       "      <th></th>\n",
       "      <th>BILL_1</th>\n",
       "      <th>BILL_2</th>\n",
       "      <th>BILL_3</th>\n",
       "      <th>BILL_4</th>\n",
       "      <th>BILL_5</th>\n",
       "      <th>BILL_6</th>\n",
       "      <th>AGE</th>\n",
       "      <th>SEX</th>\n",
       "      <th>EDUCATION</th>\n",
       "      <th>MARRIAGE</th>\n",
       "      <th>RISK</th>\n",
       "    </tr>\n",
       "  </thead>\n",
       "  <tbody>\n",
       "    <tr>\n",
       "      <td>0</td>\n",
       "      <td>0</td>\n",
       "      <td>0</td>\n",
       "      <td>0</td>\n",
       "      <td>0</td>\n",
       "      <td>0</td>\n",
       "      <td>0</td>\n",
       "      <td>37</td>\n",
       "      <td>Female</td>\n",
       "      <td>Graduate School</td>\n",
       "      <td>Married</td>\n",
       "      <td>LOW</td>\n",
       "    </tr>\n",
       "    <tr>\n",
       "      <td>1</td>\n",
       "      <td>8525</td>\n",
       "      <td>5141</td>\n",
       "      <td>5239</td>\n",
       "      <td>7911</td>\n",
       "      <td>17890</td>\n",
       "      <td>10000</td>\n",
       "      <td>25</td>\n",
       "      <td>Male</td>\n",
       "      <td>High School</td>\n",
       "      <td>Single</td>\n",
       "      <td>HIGH</td>\n",
       "    </tr>\n",
       "    <tr>\n",
       "      <td>2</td>\n",
       "      <td>628</td>\n",
       "      <td>662</td>\n",
       "      <td>596</td>\n",
       "      <td>630</td>\n",
       "      <td>664</td>\n",
       "      <td>598</td>\n",
       "      <td>39</td>\n",
       "      <td>Male</td>\n",
       "      <td>Graduate School</td>\n",
       "      <td>Married</td>\n",
       "      <td>HIGH</td>\n",
       "    </tr>\n",
       "    <tr>\n",
       "      <td>3</td>\n",
       "      <td>4649</td>\n",
       "      <td>3964</td>\n",
       "      <td>3281</td>\n",
       "      <td>934</td>\n",
       "      <td>467</td>\n",
       "      <td>12871</td>\n",
       "      <td>41</td>\n",
       "      <td>Female</td>\n",
       "      <td>Graduate School</td>\n",
       "      <td>Single</td>\n",
       "      <td>HIGH</td>\n",
       "    </tr>\n",
       "    <tr>\n",
       "      <td>4</td>\n",
       "      <td>46300</td>\n",
       "      <td>10849</td>\n",
       "      <td>8857</td>\n",
       "      <td>9658</td>\n",
       "      <td>9359</td>\n",
       "      <td>9554</td>\n",
       "      <td>55</td>\n",
       "      <td>Female</td>\n",
       "      <td>High School</td>\n",
       "      <td>Married</td>\n",
       "      <td>HIGH</td>\n",
       "    </tr>\n",
       "  </tbody>\n",
       "</table>\n",
       "</div>"
      ],
      "text/plain": [
       "   BILL_1  BILL_2  BILL_3  BILL_4  BILL_5  BILL_6  AGE     SEX  \\\n",
       "0       0       0       0       0       0       0   37  Female   \n",
       "1    8525    5141    5239    7911   17890   10000   25    Male   \n",
       "2     628     662     596     630     664     598   39    Male   \n",
       "3    4649    3964    3281     934     467   12871   41  Female   \n",
       "4   46300   10849    8857    9658    9359    9554   55  Female   \n",
       "\n",
       "         EDUCATION MARRIAGE  RISK  \n",
       "0  Graduate School  Married   LOW  \n",
       "1      High School   Single  HIGH  \n",
       "2  Graduate School  Married  HIGH  \n",
       "3  Graduate School   Single  HIGH  \n",
       "4      High School  Married  HIGH  "
      ]
     },
     "execution_count": 1,
     "metadata": {},
     "output_type": "execute_result"
    }
   ],
   "source": [
    "import pandas as pd\n",
    "\n",
    "df = pd.read_csv(\n",
    "    \"data/credit_risk_train.csv\")  # 读取数据文件\n",
    "df.head()"
   ]
  },
  {
   "cell_type": "markdown",
   "metadata": {},
   "source": [
    "该数据集包含 10 列特征，以及一列类别标签。其中：\n",
    "\n",
    "    第 1～6 列为客户近期历史账单信息。（特征）\n",
    "    第 7 列为该客户年龄。（特征）\n",
    "    第 8 列为该客户性别。（特征）\n",
    "    第 9 列为该客户教育程度。（特征）\n",
    "    第 10 列为该客户婚姻状况。（特征）\n",
    "    第 11 列为客户持卡风险状况。（分类标签：LOW, HIGH）\n",
    "\n",
    "目的:利用该数据集训练一个信用卡持卡人风险预测模型，并对模型进行评价。  \n",
    "首先，按照机器学习建模的流程，将数据集划分为训练集和测试集。\n",
    "\n",
    "第 7，8，9 列的特征数据为类别型（Female / Male）。所以，这里在划分数据集的同时，使用独热编码将类别型特征转换为数值型特征。"
   ]
  },
  {
   "cell_type": "code",
   "execution_count": 2,
   "metadata": {},
   "outputs": [
    {
     "data": {
      "text/plain": [
       "((14000, 16), (6000, 16), (14000,), (6000,))"
      ]
     },
     "execution_count": 2,
     "metadata": {},
     "output_type": "execute_result"
    }
   ],
   "source": [
    "from sklearn.model_selection import train_test_split\n",
    "from sklearn.preprocessing import scale\n",
    "\n",
    "df.RISK = df.RISK.replace({\"LOW\": 0, \"HIGH\": 1})  # 将分类标签替换为数值，方便后面计算\n",
    "\n",
    "train_data = df.iloc[:, :-1]  # 特征数据列\n",
    "train_data = pd.get_dummies(train_data)  # 对特征数据进行独热编码\n",
    "train_data = scale(train_data)  # 规范化处理\n",
    "\n",
    "train_target = df['RISK']  # 目标数据列\n",
    "\n",
    "# 划分数据集，训练集占 70%，测试集占 30%\n",
    "X_train, X_test, y_train, y_test = train_test_split(\n",
    "    train_data, train_target, test_size=0.3, random_state=0)\n",
    "\n",
    "X_train.shape, X_test.shape, y_train.shape, y_test.shape"
   ]
  },
  {
   "cell_type": "code",
   "execution_count": 3,
   "metadata": {},
   "outputs": [
    {
     "data": {
      "text/plain": [
       "LogisticRegression(C=1.0, class_weight=None, dual=False, fit_intercept=True,\n",
       "                   intercept_scaling=1, l1_ratio=None, max_iter=100,\n",
       "                   multi_class='warn', n_jobs=None, penalty='l2',\n",
       "                   random_state=None, solver='lbfgs', tol=0.0001, verbose=0,\n",
       "                   warm_start=False)"
      ]
     },
     "execution_count": 3,
     "metadata": {},
     "output_type": "execute_result"
    }
   ],
   "source": [
    "from sklearn.linear_model import LogisticRegression\n",
    "\n",
    "model = LogisticRegression(solver='lbfgs')  # 定义逻辑回归模型\n",
    "model.fit(X_train, y_train)  # 使用训练数据完成模型训练"
   ]
  },
  {
   "cell_type": "markdown",
   "metadata": {},
   "source": [
    "### 准确率 Accuracy"
   ]
  },
  {
   "cell_type": "markdown",
   "metadata": {},
   "source": [
    "| 信用风险 | HIGH | LOW |\n",
    "|:--------:|:------------------:|:------------------:|\n",
    "| HIGH | True Positive (TP) | False Negative (FN) |\n",
    "| LOW | False Positive (FP) | True Negative (TN) |"
   ]
  },
  {
   "cell_type": "markdown",
   "metadata": {},
   "source": [
    "- TP：将正类预测为正类数 → 预测正确\n",
    "- TN：将负类预测为负类数 → 预测正确\n",
    "- FP：将负类预测为正类数 → 预测错误\n",
    "- FN：将正类预测为负类数 → 预测遗漏\n",
    "$$\n",
    "Accuracy = \\frac{TP+TN}{TP+TN+FP+FN} \n",
    "$$\n",
    "$$\n",
    "acc=\\frac{\\sum_{i=1}^{N}I(\\bar{y_{i}}=y_{i})}{N} \n",
    "$$"
   ]
  },
  {
   "cell_type": "markdown",
   "metadata": {},
   "source": []
  },
  {
   "cell_type": "markdown",
   "metadata": {},
   "source": []
  },
  {
   "cell_type": "code",
   "execution_count": 5,
   "metadata": {},
   "outputs": [
    {
     "data": {
      "text/plain": [
       "array([1, 1, 1, ..., 1, 1, 1], dtype=int64)"
      ]
     },
     "execution_count": 5,
     "metadata": {},
     "output_type": "execute_result"
    }
   ],
   "source": [
    "y_pred = model.predict(X_test)  # 输入测试集特征数据得到预测结果\n",
    "y_pred"
   ]
  },
  {
   "cell_type": "code",
   "execution_count": 6,
   "metadata": {},
   "outputs": [],
   "source": [
    "import numpy as np\n",
    "\n",
    "def get_accuracy(test_labels, pred_lables):\n",
    "    # 准确率计算公式，根据公式 2 实现\n",
    "    correct = np.sum(test_labels == pred_lables)  # 计算预测正确的数据个数\n",
    "    n = len(test_labels)  # 总测试集数据个数\n",
    "    acc = correct/n\n",
    "    return acc"
   ]
  },
  {
   "cell_type": "code",
   "execution_count": 7,
   "metadata": {},
   "outputs": [
    {
     "data": {
      "text/plain": [
       "0.7678333333333334"
      ]
     },
     "execution_count": 7,
     "metadata": {},
     "output_type": "execute_result"
    }
   ],
   "source": [
    "get_accuracy(y_test, y_pred)  # 计算模型预测准确率"
   ]
  },
  {
   "cell_type": "markdown",
   "metadata": {},
   "source": [
    "直接使用准确率的 scikit-learn 计算方法"
   ]
  },
  {
   "cell_type": "code",
   "execution_count": 8,
   "metadata": {},
   "outputs": [
    {
     "data": {
      "text/plain": [
       "0.7678333333333334"
      ]
     },
     "execution_count": 8,
     "metadata": {},
     "output_type": "execute_result"
    }
   ],
   "source": [
    "from sklearn.metrics import accuracy_score\n",
    "\n",
    "accuracy_score(y_test, y_pred)  # 传入真实类别和预测类别"
   ]
  },
  {
   "cell_type": "markdown",
   "metadata": {},
   "source": [
    "scikit-learn 建模时也可以直接使用 model.score() 求得分类准确率"
   ]
  },
  {
   "cell_type": "code",
   "execution_count": 9,
   "metadata": {},
   "outputs": [
    {
     "data": {
      "text/plain": [
       "0.7678333333333334"
      ]
     },
     "execution_count": 9,
     "metadata": {},
     "output_type": "execute_result"
    }
   ],
   "source": [
    "model.score(X_test, y_test)  # 传入测试数据特征和类别"
   ]
  },
  {
   "cell_type": "markdown",
   "metadata": {},
   "source": [
    "### 查准率 Precision"
   ]
  },
  {
   "cell_type": "markdown",
   "metadata": {},
   "source": [
    "查准率又称精确率，即正确分类的正例个数占分类为正例的实例个数的比例。\n",
    "$$Precision = \\frac{TP}{TP+FP} \\tag{3}$$"
   ]
  },
  {
   "cell_type": "code",
   "execution_count": 12,
   "metadata": {},
   "outputs": [
    {
     "data": {
      "text/plain": [
       "0.7678333333333334"
      ]
     },
     "execution_count": 12,
     "metadata": {},
     "output_type": "execute_result"
    }
   ],
   "source": [
    "from sklearn.metrics import precision_score\n",
    "\n",
    "precision_score(y_test, y_pred)"
   ]
  },
  {
   "cell_type": "markdown",
   "metadata": {},
   "source": [
    "### 召回率 Recall"
   ]
  },
  {
   "cell_type": "markdown",
   "metadata": {},
   "source": [
    "召回率又称查全率，即正确分类的正例个数占实际正例个数的比例。"
   ]
  },
  {
   "cell_type": "markdown",
   "metadata": {},
   "source": [
    "$$Recall = \\frac{TP}{TP+FN} \\tag{4}$$"
   ]
  },
  {
   "cell_type": "code",
   "execution_count": 13,
   "metadata": {},
   "outputs": [
    {
     "data": {
      "text/plain": [
       "1.0"
      ]
     },
     "execution_count": 13,
     "metadata": {},
     "output_type": "execute_result"
    }
   ],
   "source": [
    "from sklearn.metrics import recall_score\n",
    "\n",
    "recall_score(y_test, y_pred)"
   ]
  },
  {
   "cell_type": "markdown",
   "metadata": {},
   "source": [
    "### F1 值"
   ]
  },
  {
   "cell_type": "markdown",
   "metadata": {},
   "source": [
    "F1 值是查准率和召回率的加权平均数。F1 相当于精确率和召回率的综合评价指标，对衡量数据更有利，也比较常用。"
   ]
  },
  {
   "cell_type": "markdown",
   "metadata": {},
   "source": [
    "$$F1 = \\frac{2*(Precision * Recall)}{Precision + Recall} \\tag{5}$$"
   ]
  },
  {
   "cell_type": "code",
   "execution_count": 14,
   "metadata": {},
   "outputs": [
    {
     "data": {
      "text/plain": [
       "0.8686716319411709"
      ]
     },
     "execution_count": 14,
     "metadata": {},
     "output_type": "execute_result"
    }
   ],
   "source": [
    "from sklearn.metrics import f1_score\n",
    "\n",
    "f1_score(y_test, y_pred)"
   ]
  },
  {
   "cell_type": "markdown",
   "metadata": {},
   "source": [
    "### ROC 曲线"
   ]
  },
  {
   "cell_type": "markdown",
   "metadata": {},
   "source": [
    "部分分类模型中（如：逻辑回归），通常会设定一个阈值，并规定大于该阈值为正类，小于则为负类。所以，当我们减小阀值时，将会有更多的样本被划分到正类。这样会提高正类的识别率，但同时也会使得更多的负类被错误识别为正类。\n",
    "所以，ROC 曲线的目的在用形象化该变化过程，从而评价一个分类器好坏。"
   ]
  },
  {
   "cell_type": "markdown",
   "metadata": {},
   "source": [
    "ROC 曲线中有两个指标，分别是 TPR 和 FPR："
   ]
  },
  {
   "cell_type": "markdown",
   "metadata": {},
   "source": [
    "$$TPR = \\frac{TP}{TP+FN} \\tag{6a}$$"
   ]
  },
  {
   "cell_type": "markdown",
   "metadata": {},
   "source": [
    "$$FPR = \\frac{FP}{FP+TN} \\tag{6b}$$"
   ]
  },
  {
   "cell_type": "markdown",
   "metadata": {},
   "source": [
    "其中，TPR 代表能将正例分对的概率（召回率），而 FPR 则代表将负例错分为正例的概率。"
   ]
  },
  {
   "cell_type": "markdown",
   "metadata": {},
   "source": [
    "![image](https://doc.shiyanlou.com/document-uid214893labid7506timestamp1540448403508.png)\n",
    "<div style=\"color: #888; font-size: 10px; text-align: right;\"><a href=\"https://en.wikipedia.org/wiki/Receiver_operating_characteristic\"><i class=\"fa fa-copyright\" aria-hidden=\"true\"> 来源</i></a></div>"
   ]
  },
  {
   "cell_type": "markdown",
   "metadata": {},
   "source": [
    "- 当 FPR=0，TPR=0 时，意味着将每一个实例都预测为负例。\n",
    "- 当 FPR=1，TPR=1 时，意味着将每一个实例都预测为正例。\n",
    "- 当 FPR=0，TPR=1 时，意味着为最优分类器点。"
   ]
  },
  {
   "cell_type": "markdown",
   "metadata": {},
   "source": [
    "一个优秀分类器对应的 ROC 曲线应该尽量靠近左上角。当曲线越接近于 45 度对角线，则分类器效果越差。"
   ]
  },
  {
   "cell_type": "markdown",
   "metadata": {},
   "source": [
    "ROC 曲线的 scikit-learn 计算方法：`sklearn.metrics.roc_curve(y_true, y_score)`。"
   ]
  },
  {
   "cell_type": "code",
   "execution_count": 19,
   "metadata": {},
   "outputs": [
    {
     "data": {
      "text/plain": [
       "(array([0., 1.]), array([0., 1.]), array([2, 1], dtype=int64))"
      ]
     },
     "execution_count": 19,
     "metadata": {},
     "output_type": "execute_result"
    }
   ],
   "source": [
    "from sklearn.metrics import roc_curve\n",
    " \n",
    "roc_curve(y_test, y_pred)"
   ]
  },
  {
   "cell_type": "markdown",
   "metadata": {},
   "source": [
    "虽然使用 ROC 曲线来表示分类器好坏很直观，但人们往往更喜欢使用数值来评价分类器，此时就提出了 AUC 的概念。AUC 的全称为 Area Under Curve，意思是曲线下面积，即 ROC 曲线下面积。\n"
   ]
  },
  {
   "cell_type": "markdown",
   "metadata": {},
   "source": [
    "- $AUC=1$：完美分类器。\n",
    "- $0.5<AUC<1$：分类器优于随机猜测。\n",
    "- $AUC=0.5$：分类器和随机猜测的结果接近。\n",
    "- $AUC<0.5$：分类器比随机猜测的结果还差。"
   ]
  },
  {
   "cell_type": "code",
   "execution_count": 20,
   "metadata": {},
   "outputs": [
    {
     "data": {
      "text/plain": [
       "<matplotlib.legend.Legend at 0x17232bc8>"
      ]
     },
     "execution_count": 20,
     "metadata": {},
     "output_type": "execute_result"
    },
    {
     "data": {
      "image/png": "[encoded data removed]",
      "text/plain": [
       "<Figure size 432x288 with 1 Axes>"
      ]
     },
     "metadata": {
      "needs_background": "light"
     },
     "output_type": "display_data"
    }
   ],
   "source": [
    "from matplotlib import pyplot as plt\n",
    "%matplotlib inline\n",
    "\n",
    "from sklearn.metrics import roc_curve\n",
    "from sklearn.metrics import auc\n",
    "\n",
    "y_score = model.decision_function(X_test)\n",
    "fpr, tpr, _ = roc_curve(y_test, y_score)\n",
    "roc_auc = auc(fpr, tpr)\n",
    "\n",
    "plt.plot(fpr, tpr, label='ROC curve (area = %0.2f)' % roc_auc)\n",
    "plt.plot([0, 1], [0, 1], color='navy', linestyle='--')\n",
    "plt.xlabel('False Positive Rate')\n",
    "plt.ylabel('True Positive Rate')\n",
    "plt.legend()"
   ]
  },
  {
   "cell_type": "code",
   "execution_count": null,
   "metadata": {},
   "outputs": [],
   "source": []
  }
 ],
 "metadata": {
  "kernelspec": {
   "display_name": "Python 3",
   "language": "python",
   "name": "python3"
  },
  "language_info": {
   "codemirror_mode": {
    "name": "ipython",
    "version": 3
   },
   "file_extension": ".py",
   "mimetype": "text/x-python",
   "name": "python",
   "nbconvert_exporter": "python",
   "pygments_lexer": "ipython3",
   "version": "3.7.4"
  }
 },
 "nbformat": 4,
 "nbformat_minor": 2
}
