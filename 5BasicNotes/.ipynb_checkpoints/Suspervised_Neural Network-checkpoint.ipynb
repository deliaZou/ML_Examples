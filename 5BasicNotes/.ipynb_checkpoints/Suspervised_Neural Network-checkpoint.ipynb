{
 "cells": [
  {
   "cell_type": "markdown",
   "metadata": {},
   "source": [
    "### Numpy构建神经网络"
   ]
  },
  {
   "cell_type": "code",
   "execution_count": 1,
   "metadata": {},
   "outputs": [],
   "source": [
    "import numpy as np\n",
    "\n",
    "class NeuralNetwork:\n",
    "    def __init__(self, X, y, lr):\n",
    "        \"\"\"初始化参数\"\"\"\n",
    "        self.input_layer = X\n",
    "        self.W1 = np.ones((self.input_layer.shape[1], 3))  # 初始化权重全为 1\n",
    "        self.W2 = np.ones((3, 1))\n",
    "        self.y = y\n",
    "        self.lr = lr\n",
    "\n",
    "    def forward(self):\n",
    "        \"\"\"前向传播\"\"\"\n",
    "        self.hidden_layer = sigmoid(np.dot(self.input_layer, self.W1))\n",
    "        self.output_layer = sigmoid(np.dot(self.hidden_layer, self.W2))\n",
    "        return self.output_layer\n",
    "\n",
    "    def backward(self):\n",
    "        \"\"\"反向传播\"\"\"\n",
    "        d_W2 = np.dot(self.hidden_layer.T, (2 * (self.output_layer - self.y) *\n",
    "                                            sigmoid_derivative(np.dot(self.hidden_layer, self.W2))))\n",
    "\n",
    "        d_W1 = np.dot(self.input_layer.T, (\n",
    "            np.dot(2 * (self.output_layer - self.y) * sigmoid_derivative(\n",
    "                   np.dot(self.hidden_layer, self.W2)), self.W2.T) * sigmoid_derivative(\n",
    "                np.dot(self.input_layer, self.W1))))\n",
    "\n",
    "        # 参数更新\n",
    "        self.W1 -= self.lr * d_W1\n",
    "        self.W2 -= self.lr * d_W2"
   ]
  },
  {
   "cell_type": "code",
   "execution_count": 4,
   "metadata": {},
   "outputs": [
    {
     "data": {
      "text/html": [
       "<div>\n",
       "<style scoped>\n",
       "    .dataframe tbody tr th:only-of-type {\n",
       "        vertical-align: middle;\n",
       "    }\n",
       "\n",
       "    .dataframe tbody tr th {\n",
       "        vertical-align: top;\n",
       "    }\n",
       "\n",
       "    .dataframe thead th {\n",
       "        text-align: right;\n",
       "    }\n",
       "</style>\n",
       "<table border=\"1\" class=\"dataframe\">\n",
       "  <thead>\n",
       "    <tr style=\"text-align: right;\">\n",
       "      <th></th>\n",
       "      <th>X0</th>\n",
       "      <th>X1</th>\n",
       "      <th>Y</th>\n",
       "    </tr>\n",
       "  </thead>\n",
       "  <tbody>\n",
       "    <tr>\n",
       "      <td>0</td>\n",
       "      <td>5.1</td>\n",
       "      <td>3.5</td>\n",
       "      <td>-1</td>\n",
       "    </tr>\n",
       "    <tr>\n",
       "      <td>1</td>\n",
       "      <td>4.9</td>\n",
       "      <td>3.0</td>\n",
       "      <td>-1</td>\n",
       "    </tr>\n",
       "    <tr>\n",
       "      <td>2</td>\n",
       "      <td>4.7</td>\n",
       "      <td>3.2</td>\n",
       "      <td>-1</td>\n",
       "    </tr>\n",
       "    <tr>\n",
       "      <td>3</td>\n",
       "      <td>4.6</td>\n",
       "      <td>3.1</td>\n",
       "      <td>-1</td>\n",
       "    </tr>\n",
       "    <tr>\n",
       "      <td>4</td>\n",
       "      <td>5.0</td>\n",
       "      <td>3.6</td>\n",
       "      <td>-1</td>\n",
       "    </tr>\n",
       "  </tbody>\n",
       "</table>\n",
       "</div>"
      ],
      "text/plain": [
       "    X0   X1  Y\n",
       "0  5.1  3.5 -1\n",
       "1  4.9  3.0 -1\n",
       "2  4.7  3.2 -1\n",
       "3  4.6  3.1 -1\n",
       "4  5.0  3.6 -1"
      ]
     },
     "execution_count": 4,
     "metadata": {},
     "output_type": "execute_result"
    }
   ],
   "source": [
    "import pandas as pd\n",
    "\n",
    "# 直接运行加载数据集\n",
    "df = pd.read_csv(\n",
    "    \"data/12data.csv\", header=0)\n",
    "df.head()  # 预览前 5 行数据"
   ]
  },
  {
   "cell_type": "code",
   "execution_count": 5,
   "metadata": {},
   "outputs": [
    {
     "data": {
      "text/plain": [
       "Text(0.5, 1.0, 'final loss: 0.8889049031629646')"
      ]
     },
     "execution_count": 5,
     "metadata": {},
     "output_type": "execute_result"
    },
    {
     "data": {
      "image/png": "[encoded data removed]",
      "text/plain": [
       "<Figure size 432x288 with 1 Axes>"
      ]
     },
     "metadata": {
      "needs_background": "light"
     },
     "output_type": "display_data"
    }
   ],
   "source": [
    "from matplotlib import pyplot as plt\n",
    "%matplotlib inline\n",
    "\n",
    "X = df[['X0', 'X1']].values  # 输入值\n",
    "y = df[['Y']].values  # 真实 y\n",
    "nn_model = NeuralNetwork(X, y, lr=0.001)  # 定义模型\n",
    "loss_list = []  # 存放损失数值变化\n",
    "\n",
    "def sigmoid(x):\n",
    "    \"\"\"激活函数\"\"\"\n",
    "    return 1 / (1 + np.exp(-x))\n",
    "\n",
    "def sigmoid_derivative(x):\n",
    "    \"\"\"sigmoid 函数求导\"\"\"\n",
    "    return sigmoid(x) * (1 - sigmoid(x))\n",
    "\n",
    "# 迭代 200 次\n",
    "for _ in range(200):\n",
    "    y_ = nn_model.forward()  # 前向传播\n",
    "    nn_model.backward()  # 反向传播\n",
    "    loss = np.square(np.subtract(y, y_)).mean()  # 计算 MSE 损失\n",
    "    loss_list.append(loss)\n",
    "\n",
    "plt.plot(loss_list)  # 绘制 loss 曲线变化图\n",
    "plt.title(f\"final loss: {loss}\")"
   ]
  },
  {
   "cell_type": "markdown",
   "metadata": {},
   "source": [
    "上例仅包含 1 个隐含层的网络，使用 NumPy 实现的代码量就已不算少。深度神经网络中，可能会有数百层及数千个神经元，使用 NumPy 实现的复杂度可想而知。"
   ]
  },
  {
   "cell_type": "markdown",
   "metadata": {},
   "source": [
    "### TensorFlow 构建神经网络"
   ]
  },
  {
   "cell_type": "code",
   "execution_count": null,
   "metadata": {},
   "outputs": [],
   "source": [
    "import tensorflow as tf\n",
    "\n",
    "X = tf.cast(tf.constant(df[['X0', 'X1']].values), tf.float32)  #tf.cast 转换张量类型为 tf.float32\n",
    "y = tf.constant(df[['Y']].values)\n",
    "\n",
    "X, y"
   ]
  },
  {
   "cell_type": "code",
   "execution_count": null,
   "metadata": {},
   "outputs": [],
   "source": [
    "#构建前向传播计算图\n",
    "W_1 = tf.Variable(tf.ones([2, 3]))  # 初始化权重全为 1，变量张量\n",
    "W_2 = tf.Variable(tf.ones([3, 1]))\n",
    "\n",
    "hidden_layer = tf.nn.sigmoid(tf.matmul(X, W_1))  # 隐含层前向传播 tf.nn下还有很多其他激活函数 具体可以查文档\n",
    "y_ = tf.nn.sigmoid(tf.matmul(hidden_layer, W_2))  # 输出层前向传播\n",
    "y_  # 输出 形状应该和数据集目标值一致，均为 (150,1)"
   ]
  },
  {
   "cell_type": "code",
   "execution_count": null,
   "metadata": {},
   "outputs": [],
   "source": [
    "# 使用 MSE 损失函数\n",
    "loss = tf.losses.mean_squared_error(labels=y, predictions=y_)\n",
    "loss"
   ]
  },
  {
   "cell_type": "code",
   "execution_count": null,
   "metadata": {},
   "outputs": [],
   "source": [
    "# 定义优化器，设定学习率，使用 minimize 方法求得损失函数极小值\n",
    "train_step = tf.train.GradientDescentOptimizer(\n",
    "    learning_rate=0.1).minimize(loss)\n",
    "train_step"
   ]
  },
  {
   "cell_type": "markdown",
   "metadata": {},
   "source": [
    "准备就绪。可以初始化变量、建立会话并完成神经网络训练了。"
   ]
  },
  {
   "cell_type": "code",
   "execution_count": null,
   "metadata": {},
   "outputs": [],
   "source": [
    "from matplotlib import pyplot as plt\n",
    "%matplotlib inline\n",
    "\n",
    "loss_list = []  # 存放每一次 loss\n",
    "init = tf.global_variables_initializer()  # 初始化变量\n",
    "with tf.Session() as sess:  # 建立会话\n",
    "    sess.run(init)\n",
    "    for _ in range(200):  # 迭代 200 次\n",
    "        sess.run(train_step)  # 执行优化迭代\n",
    "        loss_list.append(sess.run(loss))  # 计算每一次迭代 loss 并保存\n",
    "\n",
    "plt.plot(loss_list)  # 绘制 loss 变化图像"
   ]
  },
  {
   "cell_type": "markdown",
   "metadata": {},
   "source": [
    "以上2中训练方法：\n",
    "\n",
    "    NumPy 构建神经网络：定义数据 → 前向传播 → 反向传播 → 更新权重 → 迭代优化。\n",
    "    TensorFlow 构建神经网络：定义张量 → 前向传播计算图 → 定义损失函数 → 定义优化器 → 迭代优化。\n",
    "TensorFlow 省掉了推导反向传播更新参数的过程，若使用 Keras 等更高阶 API ，会更简单。"
   ]
  },
  {
   "cell_type": "markdown",
   "metadata": {},
   "source": [
    "### TensorFlow 完成 DIGITS 分类"
   ]
  },
  {
   "cell_type": "code",
   "execution_count": 13,
   "metadata": {},
   "outputs": [
    {
     "data": {
      "text/plain": [
       "((1797, 64), (1797,))"
      ]
     },
     "execution_count": 13,
     "metadata": {},
     "output_type": "execute_result"
    }
   ],
   "source": [
    "from sklearn.datasets import load_digits\n",
    "\n",
    "digits = load_digits()\n",
    "\n",
    "digits_X = digits.data\n",
    "digits_y = digits.target\n",
    "\n",
    "digits_X.shape, digits_y.shape"
   ]
  },
  {
   "cell_type": "code",
   "execution_count": 14,
   "metadata": {},
   "outputs": [
    {
     "data": {
      "text/plain": [
       "array([[1., 0., 0., ..., 0., 0., 0.],\n",
       "       [0., 1., 0., ..., 0., 0., 0.],\n",
       "       [0., 0., 1., ..., 0., 0., 0.],\n",
       "       ...,\n",
       "       [0., 0., 0., ..., 0., 1., 0.],\n",
       "       [0., 0., 0., ..., 0., 0., 1.],\n",
       "       [0., 0., 0., ..., 0., 1., 0.]])"
      ]
     },
     "execution_count": 14,
     "metadata": {},
     "output_type": "execute_result"
    }
   ],
   "source": [
    "#对target值进行热编码 #编码原因：使用 Softmax 函数对全连接层输出进行概率处理，并最终计算交叉熵损失\n",
    "digits_y = np.eye(10)[digits_y.reshape(-1)]\n",
    "digits_y"
   ]
  },
  {
   "cell_type": "code",
   "execution_count": 15,
   "metadata": {},
   "outputs": [
    {
     "data": {
      "text/plain": [
       "((1437, 64), (360, 64), (1437, 10), (360, 10))"
      ]
     },
     "execution_count": 15,
     "metadata": {},
     "output_type": "execute_result"
    }
   ],
   "source": [
    "# 切分数据集\n",
    "from sklearn.model_selection import train_test_split\n",
    "\n",
    "X_train, X_test, y_train, y_test = train_test_split(\n",
    "    digits_X, digits_y, test_size=0.2, random_state=1)\n",
    "\n",
    "X_train.shape, X_test.shape, y_train.shape, y_test.shape"
   ]
  },
  {
   "cell_type": "code",
   "execution_count": 19,
   "metadata": {},
   "outputs": [
    {
     "data": {
      "text/plain": [
       "array([0.])"
      ]
     },
     "execution_count": 19,
     "metadata": {},
     "output_type": "execute_result"
    }
   ],
   "source": [
    "#定义前向传播计算图，也就是神经网络的结构\n",
    "def fully_connected(inputs, weights, biases):\n",
    "    \"\"\"\n",
    "    inputs -- 输入 Variable\n",
    "    weights -- 权重项 Variable\n",
    "    biases -- 截距项 Variable\n",
    "    \"\"\"\n",
    "    layer = tf.add(tf.matmul(inputs, weights), biases)  # 输入 x 权重 + 截距\n",
    "    output = tf.nn.relu(layer)  # RELU 激活\n",
    "    return output"
   ]
  },
  {
   "cell_type": "markdown",
   "metadata": {},
   "source": [
    "拟构建的神经网络包含 2 个隐含层  \n",
    "输入数据的 shape 是 `(N, 64)`，N 代表样本数量。上面的神经网络一共有 2 个全连接层，其中第一层将输入数据处理成 `(N, 30)`，接着第二个全连接层将训练数据处理成 `(N, 10)`，最后直接作为输出层输出。而输出的 `(N, 10)` 正好与独热编码的目标相互对应。"
   ]
  },
  {
   "cell_type": "code",
   "execution_count": null,
   "metadata": {},
   "outputs": [],
   "source": [
    "x = tf.placeholder(tf.float32, [None, 64])  # 输入特征张量占位符\n",
    "\n",
    "# 全连接层 1\n",
    "W1 = tf.Variable(tf.random.uniform([64, 30]))  # 随机初始化权重\n",
    "b1 = tf.Variable(tf.random.uniform([30]))\n",
    "fc1 = fully_connected(x, W1, b1)\n",
    "\n",
    "# 全连接层 2\n",
    "W2 = tf.Variable(tf.random.uniform([30, 10]))\n",
    "b2 = tf.Variable(tf.random.uniform([10]))\n",
    "outs = fully_connected(fc1, W2, b2)\n",
    "\n",
    "outs  # 输出"
   ]
  },
  {
   "cell_type": "code",
   "execution_count": null,
   "metadata": {},
   "outputs": [],
   "source": [
    "y = tf.placeholder(tf.float32, [None, 10])  # 真实值标签占位符\n",
    "\n",
    "# 交叉熵损失函数，reduce_mean 的目的是对每个样本的计算结果求平均 #描述可参考文档\n",
    "loss = tf.reduce_mean(\n",
    "    tf.nn.softmax_cross_entropy_with_logits_v2(logits=outs, labels=y))\n",
    "loss"
   ]
  },
  {
   "cell_type": "code",
   "execution_count": null,
   "metadata": {},
   "outputs": [],
   "source": [
    "#深度学习中更为常用的 Adam 优化器\n",
    "train_step = tf.train.AdamOptimizer(0.01).minimize(loss)\n",
    "train_step"
   ]
  },
  {
   "cell_type": "markdown",
   "metadata": {},
   "source": [
    "准备就绪，建立会话并开始执行神经网络迭代学习"
   ]
  },
  {
   "cell_type": "code",
   "execution_count": null,
   "metadata": {},
   "outputs": [],
   "source": [
    "iters = 500  # 迭代次数\n",
    "feed_dict_train = {x: X_train, y: y_train}  # 传入网络训练数据\n",
    "init = tf.global_variables_initializer()  # 初始化全局变量\n",
    "print(\"Start training, please be patient.\")\n",
    "with tf.Session() as sess:\n",
    "    sess.run(init)\n",
    "    for i in range(iters):\n",
    "        if (i+1) % 100 == 0:  # 每间隔 100 次打印 loss 值\n",
    "            print(\"Iters [{}/{}], Loss [{:.3f}]\".format(\n",
    "                i+1, iters, loss.eval(feed_dict=feed_dict_train)))\n",
    "        sess.run(train_step, feed_dict=feed_dict_train)"
   ]
  },
  {
   "cell_type": "code",
   "execution_count": null,
   "metadata": {},
   "outputs": [],
   "source": [
    "acc = tf.reduce_mean(tf.cast(tf.math.in_top_k(\n",
    "    outs, tf.math.argmax(y, 1), k=1), tf.float32))  # 准确率计算\n",
    "#tf.math.argmax(y, 1) 从真实标签（独热编码）中返回张量轴上具有最大值的索引。\n",
    "#tf.math.in_top_k 用于计算预测的结果 outs 和实际结果 tf.math.argmax(y, 1) 的是否相等，返回一个 bool 类型的张量。\n",
    "#其中，tf.math.in_top_k 中的 k=1 参数是找到 outs 中最大值索引，该值如果和 tf.math.argmax(y, 1) 相等，则表示预测值和真实值一致。\n",
    "#tf.math.in_top_k 返回的各样本是否预测正确的布尔值可以被 tf.cast 转换为 1, 0 构成的数组，最终通过 tf.reduce_mean 计算平均值而得到概率。"
   ]
  },
  {
   "cell_type": "markdown",
   "metadata": {},
   "source": [
    "重新执行训练过程，并分别打印出训练集和测试集上的分类准确率。"
   ]
  },
  {
   "cell_type": "code",
   "execution_count": null,
   "metadata": {},
   "outputs": [],
   "source": [
    "iters = 1000  # 迭代次数\n",
    "feed_dict_test = {x: X_test, y: y_test}  # 传入网络测试数据\n",
    "init = tf.global_variables_initializer()  # 初始化全局变量\n",
    "print(\"Start training, please be patient.\")\n",
    "with tf.Session() as sess:\n",
    "    sess.run(init)\n",
    "    for i in range(iters):\n",
    "        if (i+1) % 100 == 0:  # 每间隔 100 次打印 loss 值\n",
    "            print(\"Iters [{}/{}], Train Acc [{:.3f}], Test Acc [{:.3f}]\".format(\n",
    "                i+1, iters, acc.eval(feed_dict=feed_dict_train), acc.eval(feed_dict=feed_dict_test)))\n",
    "        sess.run(train_step, feed_dict=feed_dict_train)"
   ]
  },
  {
   "cell_type": "markdown",
   "metadata": {},
   "source": [
    "迭代 1000 次后，训练集准确率接近 100%，测试集大约在 95% 左右。"
   ]
  },
  {
   "cell_type": "markdown",
   "metadata": {},
   "source": [
    "### TensorFlow 实现 Mini Batch 训练"
   ]
  },
  {
   "cell_type": "markdown",
   "metadata": {},
   "source": [
    "Mini Batch ：将整个数据分成一些小批次放进模型里进行训练。"
   ]
  },
  {
   "cell_type": "code",
   "execution_count": null,
   "metadata": {},
   "outputs": [],
   "source": [
    "from sklearn.model_selection import KFold\n",
    "from tqdm import tqdm_notebook\n",
    "\n",
    "EPOCHS = 500  # 全部数据迭代次数\n",
    "BATCH_SIZE = 64  # 每次迭代的批量大小\n",
    "print(\"Start training, please be patient.\")\n",
    "init = tf.global_variables_initializer()  # 初始化全局变量\n",
    "with tf.Session() as sess:\n",
    "    sess.run(init)\n",
    "    for epoch in tqdm_notebook(range(EPOCHS)):  # 设定全数据集迭代次数\n",
    "        indices = np.arange(len(X_train))  # 生成训练数据长度规则序列\n",
    "        np.random.shuffle(indices)  # 对索引序列进行打乱，保证为随机数据划分\n",
    "        batch_num = int(len(X_train)/BATCH_SIZE)  # 根据批量大小求得要划分的 batch 数量\n",
    "        kf = KFold(n_splits=batch_num)  # 将数据分割成 batch 数量份\n",
    "        # KFold 划分打乱后的索引序列，然后依据序列序列从数据中抽取 batch 样本\n",
    "        for _, index in kf.split(indices):\n",
    "            X_batch = X_train[indices[index]]  # 按打乱后的序列取出数据\n",
    "            y_batch = y_train[indices[index]]\n",
    "            sess.run(train_step, feed_dict={x: X_batch, y: y_batch})  # 小批量训练\n",
    "\n",
    "        if (epoch+1) % 100 == 0:\n",
    "            print(\"Epoch [{}/{}], Test Acc [{:.3f}]\".format(\n",
    "                epoch+1, EPOCHS, acc.eval(feed_dict=feed_dict_test)))\n",
    "            \n",
    "#由于 KFold 循环得到的 index 永远是按顺序排列的，所以提前生成了数据长度的顺序序列 indices，然后使用 shuffle 打乱该序列。\n",
    "#最后从打乱后的 indices 取出值作为训练数据取 Batch 的索引"
   ]
  }
 ],
 "metadata": {
  "kernelspec": {
   "display_name": "Python 3",
   "language": "python",
   "name": "python3"
  },
  "language_info": {
   "codemirror_mode": {
    "name": "ipython",
    "version": 3
   },
   "file_extension": ".py",
   "mimetype": "text/x-python",
   "name": "python",
   "nbconvert_exporter": "python",
   "pygments_lexer": "ipython3",
   "version": "3.7.4"
  }
 },
 "nbformat": 4,
 "nbformat_minor": 2
}
