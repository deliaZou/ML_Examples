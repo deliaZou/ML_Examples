{
 "cells": [
  {
   "cell_type": "code",
   "execution_count": 3,
   "metadata": {},
   "outputs": [],
   "source": [
    "import numpy as np\n",
    "\n",
    "def create_data():\n",
    "    features = np.array(\n",
    "        [[2.88, 3.05], [3.1, 2.45], [3.05, 2.8], [2.9, 2.7], [2.75, 3.4],\n",
    "         [3.23, 2.9], [3.2, 3.75], [3.5, 2.9], [3.65, 3.6], [3.35, 3.3]])\n",
    "    labels = ['A', 'A', 'A', 'A', 'A', 'B', 'B', 'B', 'B', 'B']\n",
    "    return features, labels\n",
    "features, labels = create_data()"
   ]
  },
  {
   "cell_type": "markdown",
   "metadata": {},
   "source": [
    "1,绘图"
   ]
  },
  {
   "cell_type": "code",
   "execution_count": 4,
   "metadata": {},
   "outputs": [
    {
     "data": {
      "text/plain": [
       "<matplotlib.collections.PathCollection at 0x18d3fb08>"
      ]
     },
     "execution_count": 4,
     "metadata": {},
     "output_type": "execute_result"
    },
    {
     "data": {
      "image/png": "[encoded data removed]",
      "text/plain": [
       "<Figure size 360x360 with 1 Axes>"
      ]
     },
     "metadata": {
      "needs_background": "light"
     },
     "output_type": "display_data"
    }
   ],
   "source": [
    "from matplotlib import pyplot as plt\n",
    "%matplotlib inline\n",
    "\n",
    "plt.figure(figsize=(5, 5))\n",
    "plt.xlim((2.4, 3.8))\n",
    "plt.ylim((2.4, 3.8))\n",
    "\n",
    "x_feature = list(map(lambda x: x[0], features))  # 返回每个数据的x特征值\n",
    "y_feature = list(map(lambda y: y[1], features))\n",
    "\n",
    "plt.scatter(x_feature[:5], y_feature[:5], c=\"b\")  # 在画布上绘画出\"A\"类标签的数据点\n",
    "plt.scatter(x_feature[5:], y_feature[5:], c=\"g\")\n",
    "plt.scatter([3.18], [3.15], c=\"r\", marker=\"x\")  # 待测试点的坐标为 [3.1，3.2]"
   ]
  },
  {
   "cell_type": "markdown",
   "metadata": {},
   "source": [
    "2,计算距离"
   ]
  },
  {
   "cell_type": "code",
   "execution_count": 5,
   "metadata": {},
   "outputs": [],
   "source": [
    "#2.1曼哈顿距离\n",
    "def d_man(x, y):\n",
    "    d = np.sum(np.abs(x - y))\n",
    "    return d\n",
    "#2.2欧氏距离\n",
    "def d_euc(x, y):\n",
    "    d = np.sqrt(np.sum(np.square(x - y)))\n",
    "    return d"
   ]
  },
  {
   "cell_type": "markdown",
   "metadata": {},
   "source": [
    "3，决策规则"
   ]
  },
  {
   "cell_type": "code",
   "execution_count": 6,
   "metadata": {},
   "outputs": [
    {
     "data": {
      "text/plain": [
       "[('C', 6), ('D', 5), ('A', 3), ('B', 2)]"
      ]
     },
     "execution_count": 6,
     "metadata": {},
     "output_type": "execute_result"
    }
   ],
   "source": [
    "import operator\n",
    "def majority_voting(class_count):\n",
    "    #多数表决函数  \n",
    "    sorted_class_count  = sorted(class_count.items(),key = operator.itemgetter(1),reverse=True)\n",
    "    return sorted_class_count\n",
    "arr = {'A': 3, 'B': 2, \"C\": 6, \"D\": 5}\n",
    "majority_voting(arr)"
   ]
  },
  {
   "cell_type": "markdown",
   "metadata": {},
   "source": [
    "4,算法实现"
   ]
  },
  {
   "cell_type": "code",
   "execution_count": 9,
   "metadata": {},
   "outputs": [],
   "source": [
    "def knn_classify(test_data, train_data, labels, k):\n",
    "    '''\n",
    "    - `test_data`：用于分类的输入向量。\n",
    "    - `train_data`：输入的训练样本集。\n",
    "    - `labels`：样本数据的类标签向量。\n",
    "    - `k`：用于选择最近邻居的数目。\n",
    "    '''\n",
    "    # KNN 方法完整实现\n",
    "    distances = np.array([])  # 创建一个空的数组用于存放距离\n",
    "\n",
    "    for each_data in train_data:  # 使用欧式距离计算数据相似度\n",
    "        d = d_euc(test_data, each_data)\n",
    "        distances = np.append(distances, d)\n",
    "\n",
    "    sorted_distance_index = distances.argsort()  # 获取按距离从小到大排序后的索引\n",
    "    sorted_distance = np.sort(distances)\n",
    "    r = (sorted_distance[k]+sorted_distance[k-1])/2  # 计算\n",
    "\n",
    "    class_count = {}\n",
    "    for i in range(k):  # 多数表决\n",
    "        vote_label = labels[sorted_distance_index[i]]\n",
    "        class_count[vote_label] = class_count.get(vote_label, 0) + 1\n",
    "\n",
    "    final_label = majority_voting(class_count)\n",
    "    return final_label, r"
   ]
  },
  {
   "cell_type": "markdown",
   "metadata": {},
   "source": [
    "5,预测上图中X点"
   ]
  },
  {
   "cell_type": "code",
   "execution_count": 10,
   "metadata": {},
   "outputs": [
    {
     "data": {
      "text/plain": [
       "[('B', 3), ('A', 2)]"
      ]
     },
     "execution_count": 10,
     "metadata": {},
     "output_type": "execute_result"
    }
   ],
   "source": [
    "test_data = np.array([3.18, 3.15])\n",
    "final_label, r = knn_classify(test_data, features, labels, 5)\n",
    "final_label"
   ]
  },
  {
   "cell_type": "markdown",
   "metadata": {},
   "source": [
    "#### 可视化展示"
   ]
  },
  {
   "cell_type": "code",
   "execution_count": 13,
   "metadata": {},
   "outputs": [],
   "source": [
    "def circle(r, a, b):  # 画圆：用极坐标的方式对圆进行表示 ：x=r*cosθ，y=r*sinθ。\n",
    "    theta = np.arange(0, 2*np.pi, 0.01)\n",
    "    x = a+r * np.cos(theta)\n",
    "    y = b+r * np.sin(theta)\n",
    "    return x, y"
   ]
  },
  {
   "cell_type": "code",
   "execution_count": 14,
   "metadata": {},
   "outputs": [],
   "source": [
    "from ipywidgets import interact, fixed   # ipywidgets 模块：可以通过下拉菜单选择不同的 K 值进行判断并预测未知点最后的种类\n",
    "\n",
    "def change_k(test_data, features, k):\n",
    "    final_label, r = knn_classify(test_data, features, labels, k)\n",
    "    k_circle_x, k_circle_y = circle(r, 3.18, 3.15)\n",
    "    \n",
    "    plt.figure(figsize=(5, 5))\n",
    "    plt.xlim((2.4, 3.8))\n",
    "    plt.ylim((2.4, 3.8))\n",
    "    \n",
    "    x_feature = list(map(lambda x: x[0], features))  # 返回每个数据的 x 特征值\n",
    "    y_feature = list(map(lambda y: y[1], features))\n",
    "    \n",
    "    plt.scatter(x_feature[:5], y_feature[:5], c=\"b\")  # 在画布上绘画出\"A\"类标签的数据点\n",
    "    plt.scatter(x_feature[5:], y_feature[5:], c=\"g\")\n",
    "    plt.scatter([3.18], [3.15], c=\"r\", marker=\"x\")  # 待测试点的坐标为 [3.1，3.2]\n",
    "    plt.plot(k_circle_x, k_circle_y)"
   ]
  },
  {
   "cell_type": "code",
   "execution_count": 15,
   "metadata": {},
   "outputs": [
    {
     "data": {
      "application/vnd.jupyter.widget-view+json": {
       "model_id": "ac30e4ad4fc041fc8eed5e05b4d56942",
       "version_major": 2,
       "version_minor": 0
      },
      "text/plain": [
       "interactive(children=(Dropdown(description='k', options=(3, 5, 7, 9), value=3), Output()), _dom_classes=('widg…"
      ]
     },
     "metadata": {},
     "output_type": "display_data"
    },
    {
     "data": {
      "text/plain": [
       "<function __main__.change_k(test_data, features, k)>"
      ]
     },
     "execution_count": 15,
     "metadata": {},
     "output_type": "execute_result"
    }
   ],
   "source": [
    "interact(change_k, test_data=fixed(test_data),\n",
    "         features=fixed(features), k=[3, 5, 7, 9])  # 可交互式绘图"
   ]
  },
  {
   "cell_type": "markdown",
   "metadata": {},
   "source": [
    "### 应用 "
   ]
  },
  {
   "cell_type": "code",
   "execution_count": 16,
   "metadata": {},
   "outputs": [
    {
     "data": {
      "text/html": [
       "<div>\n",
       "<style scoped>\n",
       "    .dataframe tbody tr th:only-of-type {\n",
       "        vertical-align: middle;\n",
       "    }\n",
       "\n",
       "    .dataframe tbody tr th {\n",
       "        vertical-align: top;\n",
       "    }\n",
       "\n",
       "    .dataframe thead th {\n",
       "        text-align: right;\n",
       "    }\n",
       "</style>\n",
       "<table border=\"1\" class=\"dataframe\">\n",
       "  <thead>\n",
       "    <tr style=\"text-align: right;\">\n",
       "      <th></th>\n",
       "      <th>sepal_length</th>\n",
       "      <th>sepal_width</th>\n",
       "      <th>petal_length</th>\n",
       "      <th>petal_width</th>\n",
       "      <th>labels</th>\n",
       "    </tr>\n",
       "  </thead>\n",
       "  <tbody>\n",
       "    <tr>\n",
       "      <td>0</td>\n",
       "      <td>5.1</td>\n",
       "      <td>3.5</td>\n",
       "      <td>2.4</td>\n",
       "      <td>2.1</td>\n",
       "      <td>daphne</td>\n",
       "    </tr>\n",
       "    <tr>\n",
       "      <td>1</td>\n",
       "      <td>4.9</td>\n",
       "      <td>3.0</td>\n",
       "      <td>2.7</td>\n",
       "      <td>1.7</td>\n",
       "      <td>daphne</td>\n",
       "    </tr>\n",
       "    <tr>\n",
       "      <td>2</td>\n",
       "      <td>4.7</td>\n",
       "      <td>3.2</td>\n",
       "      <td>2.2</td>\n",
       "      <td>1.4</td>\n",
       "      <td>daphne</td>\n",
       "    </tr>\n",
       "    <tr>\n",
       "      <td>3</td>\n",
       "      <td>4.6</td>\n",
       "      <td>3.1</td>\n",
       "      <td>1.6</td>\n",
       "      <td>1.7</td>\n",
       "      <td>daphne</td>\n",
       "    </tr>\n",
       "    <tr>\n",
       "      <td>4</td>\n",
       "      <td>5.0</td>\n",
       "      <td>3.6</td>\n",
       "      <td>1.6</td>\n",
       "      <td>1.4</td>\n",
       "      <td>daphne</td>\n",
       "    </tr>\n",
       "  </tbody>\n",
       "</table>\n",
       "</div>"
      ],
      "text/plain": [
       "   sepal_length  sepal_width  petal_length  petal_width  labels\n",
       "0           5.1          3.5           2.4          2.1  daphne\n",
       "1           4.9          3.0           2.7          1.7  daphne\n",
       "2           4.7          3.2           2.2          1.4  daphne\n",
       "3           4.6          3.1           1.6          1.7  daphne\n",
       "4           5.0          3.6           1.6          1.4  daphne"
      ]
     },
     "execution_count": 16,
     "metadata": {},
     "output_type": "execute_result"
    }
   ],
   "source": [
    "import pandas as pd\n",
    "\n",
    "lilac_data = pd.read_csv(\n",
    "    'data/syringa.csv')\n",
    "lilac_data.head()  # 预览前 5 行"
   ]
  },
  {
   "cell_type": "code",
   "execution_count": 17,
   "metadata": {},
   "outputs": [
    {
     "data": {
      "text/plain": [
       "<matplotlib.collections.PathCollection at 0x1afa4e88>"
      ]
     },
     "execution_count": 17,
     "metadata": {},
     "output_type": "execute_result"
    },
    {
     "data": {
      "image/png": "[encoded data removed]",
      "text/plain": [
       "<Figure size 1440x720 with 6 Axes>"
      ]
     },
     "metadata": {
      "needs_background": "light"
     },
     "output_type": "display_data"
    }
   ],
   "source": [
    "\"\"\"绘制丁香花特征子图,4 个特征值，在二维空间中无法直接表示，所以只有采用特征组合的方式绘画特征分布图。\n",
    "将 4 个特征，进行两两组合得到 6 种情况，并采用子图的方式进行绘制。\n",
    "\"\"\"\n",
    "fig, axes = plt.subplots(2, 3, figsize=(20, 10))  # 构建生成 2*3 的画布，2 行 3 列\n",
    "fig.subplots_adjust(hspace=0.3, wspace=0.2)  # 定义每个画布内的行间隔和高间隔\n",
    "\n",
    "axes[0, 0].set_xlabel(\"sepal_length\")  # 定义 x 轴坐标值\n",
    "axes[0, 0].set_ylabel(\"sepal_width\")  # 定义 y 轴坐标值\n",
    "axes[0, 0].scatter(lilac_data.sepal_length[:50],\n",
    "                   lilac_data.sepal_width[:50], c=\"b\")\n",
    "axes[0, 0].scatter(lilac_data.sepal_length[50:100],\n",
    "                   lilac_data.sepal_width[50:100], c=\"g\")\n",
    "axes[0, 0].scatter(lilac_data.sepal_length[100:],\n",
    "                   lilac_data.sepal_width[100:], c=\"r\")\n",
    "axes[0, 0].legend([\"daphne\", \"syringa\", \"willow\"], loc=2)  # 定义示例\n",
    "\n",
    "axes[0, 1].set_xlabel(\"petal_length\")\n",
    "axes[0, 1].set_ylabel(\"petal_width\")\n",
    "axes[0, 1].scatter(lilac_data.petal_length[:50],\n",
    "                   lilac_data.petal_width[:50], c=\"b\")\n",
    "axes[0, 1].scatter(lilac_data.petal_length[50:100],\n",
    "                   lilac_data.petal_width[50:100], c=\"g\")\n",
    "axes[0, 1].scatter(lilac_data.petal_length[100:],\n",
    "                   lilac_data.petal_width[100:], c=\"r\")\n",
    "\n",
    "axes[0, 2].set_xlabel(\"sepal_length\")\n",
    "axes[0, 2].set_ylabel(\"petal_length\")\n",
    "axes[0, 2].scatter(lilac_data.sepal_length[:50],\n",
    "                   lilac_data.petal_length[:50], c=\"b\")\n",
    "axes[0, 2].scatter(lilac_data.sepal_length[50:100],\n",
    "                   lilac_data.petal_length[50:100], c=\"g\")\n",
    "axes[0, 2].scatter(lilac_data.sepal_length[100:],\n",
    "                   lilac_data.petal_length[100:], c=\"r\")\n",
    "\n",
    "axes[1, 0].set_xlabel(\"sepal_width\")\n",
    "axes[1, 0].set_ylabel(\"petal_width\")\n",
    "axes[1, 0].scatter(lilac_data.sepal_width[:50],\n",
    "                   lilac_data.petal_width[:50], c=\"b\")\n",
    "axes[1, 0].scatter(lilac_data.sepal_width[50:100],\n",
    "                   lilac_data.petal_width[50:100], c=\"g\")\n",
    "axes[1, 0].scatter(lilac_data.sepal_width[100:],\n",
    "                   lilac_data.petal_width[100:], c=\"r\")\n",
    "\n",
    "axes[1, 1].set_xlabel(\"sepal_length\")\n",
    "axes[1, 1].set_ylabel(\"petal_width\")\n",
    "axes[1, 1].scatter(lilac_data.sepal_length[:50],\n",
    "                   lilac_data.petal_width[:50], c=\"b\")\n",
    "axes[1, 1].scatter(lilac_data.sepal_length[50:100],\n",
    "                   lilac_data.petal_width[50:100], c=\"g\")\n",
    "axes[1, 1].scatter(lilac_data.sepal_length[100:],\n",
    "                   lilac_data.petal_width[100:], c=\"r\")\n",
    "\n",
    "axes[1, 2].set_xlabel(\"sepal_width\")\n",
    "axes[1, 2].set_ylabel(\"petal_length\")\n",
    "axes[1, 2].scatter(lilac_data.sepal_width[:50],\n",
    "                   lilac_data.petal_length[:50], c=\"b\")\n",
    "axes[1, 2].scatter(lilac_data.sepal_width[50:100],\n",
    "                   lilac_data.petal_length[50:100], c=\"g\")\n",
    "axes[1, 2].scatter(lilac_data.sepal_width[100:],\n",
    "                   lilac_data.petal_length[100:], c=\"r\")"
   ]
  },
  {
   "cell_type": "code",
   "execution_count": 18,
   "metadata": {},
   "outputs": [
    {
     "data": {
      "text/html": [
       "<div>\n",
       "<style scoped>\n",
       "    .dataframe tbody tr th:only-of-type {\n",
       "        vertical-align: middle;\n",
       "    }\n",
       "\n",
       "    .dataframe tbody tr th {\n",
       "        vertical-align: top;\n",
       "    }\n",
       "\n",
       "    .dataframe thead th {\n",
       "        text-align: right;\n",
       "    }\n",
       "</style>\n",
       "<table border=\"1\" class=\"dataframe\">\n",
       "  <thead>\n",
       "    <tr style=\"text-align: right;\">\n",
       "      <th></th>\n",
       "      <th>sepal_length</th>\n",
       "      <th>sepal_width</th>\n",
       "      <th>petal_length</th>\n",
       "      <th>petal_width</th>\n",
       "    </tr>\n",
       "  </thead>\n",
       "  <tbody>\n",
       "    <tr>\n",
       "      <td>6</td>\n",
       "      <td>4.6</td>\n",
       "      <td>3.4</td>\n",
       "      <td>2.5</td>\n",
       "      <td>1.6</td>\n",
       "    </tr>\n",
       "    <tr>\n",
       "      <td>3</td>\n",
       "      <td>4.6</td>\n",
       "      <td>3.1</td>\n",
       "      <td>1.6</td>\n",
       "      <td>1.7</td>\n",
       "    </tr>\n",
       "    <tr>\n",
       "      <td>113</td>\n",
       "      <td>5.1</td>\n",
       "      <td>2.5</td>\n",
       "      <td>4.6</td>\n",
       "      <td>2.0</td>\n",
       "    </tr>\n",
       "    <tr>\n",
       "      <td>12</td>\n",
       "      <td>4.8</td>\n",
       "      <td>3.0</td>\n",
       "      <td>2.2</td>\n",
       "      <td>1.5</td>\n",
       "    </tr>\n",
       "    <tr>\n",
       "      <td>24</td>\n",
       "      <td>4.8</td>\n",
       "      <td>3.4</td>\n",
       "      <td>2.1</td>\n",
       "      <td>2.2</td>\n",
       "    </tr>\n",
       "    <tr>\n",
       "      <td>129</td>\n",
       "      <td>6.2</td>\n",
       "      <td>3.0</td>\n",
       "      <td>4.0</td>\n",
       "      <td>1.6</td>\n",
       "    </tr>\n",
       "    <tr>\n",
       "      <td>25</td>\n",
       "      <td>5.0</td>\n",
       "      <td>3.0</td>\n",
       "      <td>3.3</td>\n",
       "      <td>1.7</td>\n",
       "    </tr>\n",
       "    <tr>\n",
       "      <td>108</td>\n",
       "      <td>5.7</td>\n",
       "      <td>2.5</td>\n",
       "      <td>4.1</td>\n",
       "      <td>2.8</td>\n",
       "    </tr>\n",
       "    <tr>\n",
       "      <td>128</td>\n",
       "      <td>5.9</td>\n",
       "      <td>2.8</td>\n",
       "      <td>4.1</td>\n",
       "      <td>2.1</td>\n",
       "    </tr>\n",
       "    <tr>\n",
       "      <td>45</td>\n",
       "      <td>4.8</td>\n",
       "      <td>3.0</td>\n",
       "      <td>1.9</td>\n",
       "      <td>1.5</td>\n",
       "    </tr>\n",
       "    <tr>\n",
       "      <td>48</td>\n",
       "      <td>5.3</td>\n",
       "      <td>3.7</td>\n",
       "      <td>3.0</td>\n",
       "      <td>1.8</td>\n",
       "    </tr>\n",
       "    <tr>\n",
       "      <td>42</td>\n",
       "      <td>4.4</td>\n",
       "      <td>3.2</td>\n",
       "      <td>2.1</td>\n",
       "      <td>1.3</td>\n",
       "    </tr>\n",
       "    <tr>\n",
       "      <td>35</td>\n",
       "      <td>5.0</td>\n",
       "      <td>3.2</td>\n",
       "      <td>1.4</td>\n",
       "      <td>1.3</td>\n",
       "    </tr>\n",
       "    <tr>\n",
       "      <td>5</td>\n",
       "      <td>5.4</td>\n",
       "      <td>3.9</td>\n",
       "      <td>1.8</td>\n",
       "      <td>1.5</td>\n",
       "    </tr>\n",
       "    <tr>\n",
       "      <td>85</td>\n",
       "      <td>6.0</td>\n",
       "      <td>3.4</td>\n",
       "      <td>4.5</td>\n",
       "      <td>1.7</td>\n",
       "    </tr>\n",
       "    <tr>\n",
       "      <td>54</td>\n",
       "      <td>6.5</td>\n",
       "      <td>2.8</td>\n",
       "      <td>4.6</td>\n",
       "      <td>2.4</td>\n",
       "    </tr>\n",
       "    <tr>\n",
       "      <td>41</td>\n",
       "      <td>4.5</td>\n",
       "      <td>2.3</td>\n",
       "      <td>2.5</td>\n",
       "      <td>1.3</td>\n",
       "    </tr>\n",
       "    <tr>\n",
       "      <td>96</td>\n",
       "      <td>5.7</td>\n",
       "      <td>2.9</td>\n",
       "      <td>4.2</td>\n",
       "      <td>2.3</td>\n",
       "    </tr>\n",
       "    <tr>\n",
       "      <td>144</td>\n",
       "      <td>6.7</td>\n",
       "      <td>3.3</td>\n",
       "      <td>4.9</td>\n",
       "      <td>2.5</td>\n",
       "    </tr>\n",
       "    <tr>\n",
       "      <td>89</td>\n",
       "      <td>5.5</td>\n",
       "      <td>2.5</td>\n",
       "      <td>4.0</td>\n",
       "      <td>2.2</td>\n",
       "    </tr>\n",
       "    <tr>\n",
       "      <td>77</td>\n",
       "      <td>6.7</td>\n",
       "      <td>3.0</td>\n",
       "      <td>5.0</td>\n",
       "      <td>2.1</td>\n",
       "    </tr>\n",
       "    <tr>\n",
       "      <td>74</td>\n",
       "      <td>6.4</td>\n",
       "      <td>2.9</td>\n",
       "      <td>4.3</td>\n",
       "      <td>1.9</td>\n",
       "    </tr>\n",
       "    <tr>\n",
       "      <td>115</td>\n",
       "      <td>6.3</td>\n",
       "      <td>3.2</td>\n",
       "      <td>4.2</td>\n",
       "      <td>2.3</td>\n",
       "    </tr>\n",
       "    <tr>\n",
       "      <td>94</td>\n",
       "      <td>5.6</td>\n",
       "      <td>2.7</td>\n",
       "      <td>4.2</td>\n",
       "      <td>1.5</td>\n",
       "    </tr>\n",
       "    <tr>\n",
       "      <td>87</td>\n",
       "      <td>6.3</td>\n",
       "      <td>2.3</td>\n",
       "      <td>4.4</td>\n",
       "      <td>1.8</td>\n",
       "    </tr>\n",
       "    <tr>\n",
       "      <td>29</td>\n",
       "      <td>4.7</td>\n",
       "      <td>3.2</td>\n",
       "      <td>2.4</td>\n",
       "      <td>1.7</td>\n",
       "    </tr>\n",
       "    <tr>\n",
       "      <td>2</td>\n",
       "      <td>4.7</td>\n",
       "      <td>3.2</td>\n",
       "      <td>2.2</td>\n",
       "      <td>1.4</td>\n",
       "    </tr>\n",
       "    <tr>\n",
       "      <td>127</td>\n",
       "      <td>6.1</td>\n",
       "      <td>3.0</td>\n",
       "      <td>3.5</td>\n",
       "      <td>1.8</td>\n",
       "    </tr>\n",
       "    <tr>\n",
       "      <td>44</td>\n",
       "      <td>5.1</td>\n",
       "      <td>3.8</td>\n",
       "      <td>3.1</td>\n",
       "      <td>2.7</td>\n",
       "    </tr>\n",
       "    <tr>\n",
       "      <td>125</td>\n",
       "      <td>6.5</td>\n",
       "      <td>3.2</td>\n",
       "      <td>5.7</td>\n",
       "      <td>1.8</td>\n",
       "    </tr>\n",
       "    <tr>\n",
       "      <td>126</td>\n",
       "      <td>5.3</td>\n",
       "      <td>2.8</td>\n",
       "      <td>4.3</td>\n",
       "      <td>1.8</td>\n",
       "    </tr>\n",
       "    <tr>\n",
       "      <td>23</td>\n",
       "      <td>5.1</td>\n",
       "      <td>3.3</td>\n",
       "      <td>2.1</td>\n",
       "      <td>2.0</td>\n",
       "    </tr>\n",
       "    <tr>\n",
       "      <td>64</td>\n",
       "      <td>5.6</td>\n",
       "      <td>2.9</td>\n",
       "      <td>3.6</td>\n",
       "      <td>1.7</td>\n",
       "    </tr>\n",
       "    <tr>\n",
       "      <td>117</td>\n",
       "      <td>7.5</td>\n",
       "      <td>3.8</td>\n",
       "      <td>4.9</td>\n",
       "      <td>2.2</td>\n",
       "    </tr>\n",
       "    <tr>\n",
       "      <td>84</td>\n",
       "      <td>5.4</td>\n",
       "      <td>3.0</td>\n",
       "      <td>4.5</td>\n",
       "      <td>2.2</td>\n",
       "    </tr>\n",
       "    <tr>\n",
       "      <td>14</td>\n",
       "      <td>5.8</td>\n",
       "      <td>4.0</td>\n",
       "      <td>2.4</td>\n",
       "      <td>1.5</td>\n",
       "    </tr>\n",
       "    <tr>\n",
       "      <td>132</td>\n",
       "      <td>5.4</td>\n",
       "      <td>2.8</td>\n",
       "      <td>4.0</td>\n",
       "      <td>2.2</td>\n",
       "    </tr>\n",
       "    <tr>\n",
       "      <td>91</td>\n",
       "      <td>6.1</td>\n",
       "      <td>3.0</td>\n",
       "      <td>4.6</td>\n",
       "      <td>1.4</td>\n",
       "    </tr>\n",
       "    <tr>\n",
       "      <td>53</td>\n",
       "      <td>5.5</td>\n",
       "      <td>2.3</td>\n",
       "      <td>4.0</td>\n",
       "      <td>1.8</td>\n",
       "    </tr>\n",
       "    <tr>\n",
       "      <td>141</td>\n",
       "      <td>6.7</td>\n",
       "      <td>3.1</td>\n",
       "      <td>3.6</td>\n",
       "      <td>2.3</td>\n",
       "    </tr>\n",
       "    <tr>\n",
       "      <td>78</td>\n",
       "      <td>6.0</td>\n",
       "      <td>2.9</td>\n",
       "      <td>4.5</td>\n",
       "      <td>1.7</td>\n",
       "    </tr>\n",
       "    <tr>\n",
       "      <td>97</td>\n",
       "      <td>6.2</td>\n",
       "      <td>2.9</td>\n",
       "      <td>4.3</td>\n",
       "      <td>2.3</td>\n",
       "    </tr>\n",
       "    <tr>\n",
       "      <td>143</td>\n",
       "      <td>5.9</td>\n",
       "      <td>3.2</td>\n",
       "      <td>4.5</td>\n",
       "      <td>2.3</td>\n",
       "    </tr>\n",
       "    <tr>\n",
       "      <td>93</td>\n",
       "      <td>5.0</td>\n",
       "      <td>2.3</td>\n",
       "      <td>3.3</td>\n",
       "      <td>1.8</td>\n",
       "    </tr>\n",
       "    <tr>\n",
       "      <td>11</td>\n",
       "      <td>4.8</td>\n",
       "      <td>3.4</td>\n",
       "      <td>2.2</td>\n",
       "      <td>1.7</td>\n",
       "    </tr>\n",
       "  </tbody>\n",
       "</table>\n",
       "</div>"
      ],
      "text/plain": [
       "     sepal_length  sepal_width  petal_length  petal_width\n",
       "6             4.6          3.4           2.5          1.6\n",
       "3             4.6          3.1           1.6          1.7\n",
       "113           5.1          2.5           4.6          2.0\n",
       "12            4.8          3.0           2.2          1.5\n",
       "24            4.8          3.4           2.1          2.2\n",
       "129           6.2          3.0           4.0          1.6\n",
       "25            5.0          3.0           3.3          1.7\n",
       "108           5.7          2.5           4.1          2.8\n",
       "128           5.9          2.8           4.1          2.1\n",
       "45            4.8          3.0           1.9          1.5\n",
       "48            5.3          3.7           3.0          1.8\n",
       "42            4.4          3.2           2.1          1.3\n",
       "35            5.0          3.2           1.4          1.3\n",
       "5             5.4          3.9           1.8          1.5\n",
       "85            6.0          3.4           4.5          1.7\n",
       "54            6.5          2.8           4.6          2.4\n",
       "41            4.5          2.3           2.5          1.3\n",
       "96            5.7          2.9           4.2          2.3\n",
       "144           6.7          3.3           4.9          2.5\n",
       "89            5.5          2.5           4.0          2.2\n",
       "77            6.7          3.0           5.0          2.1\n",
       "74            6.4          2.9           4.3          1.9\n",
       "115           6.3          3.2           4.2          2.3\n",
       "94            5.6          2.7           4.2          1.5\n",
       "87            6.3          2.3           4.4          1.8\n",
       "29            4.7          3.2           2.4          1.7\n",
       "2             4.7          3.2           2.2          1.4\n",
       "127           6.1          3.0           3.5          1.8\n",
       "44            5.1          3.8           3.1          2.7\n",
       "125           6.5          3.2           5.7          1.8\n",
       "126           5.3          2.8           4.3          1.8\n",
       "23            5.1          3.3           2.1          2.0\n",
       "64            5.6          2.9           3.6          1.7\n",
       "117           7.5          3.8           4.9          2.2\n",
       "84            5.4          3.0           4.5          2.2\n",
       "14            5.8          4.0           2.4          1.5\n",
       "132           5.4          2.8           4.0          2.2\n",
       "91            6.1          3.0           4.6          1.4\n",
       "53            5.5          2.3           4.0          1.8\n",
       "141           6.7          3.1           3.6          2.3\n",
       "78            6.0          2.9           4.5          1.7\n",
       "97            6.2          2.9           4.3          2.3\n",
       "143           5.9          3.2           4.5          2.3\n",
       "93            5.0          2.3           3.3          1.8\n",
       "11            4.8          3.4           2.2          1.7"
      ]
     },
     "execution_count": 18,
     "metadata": {},
     "output_type": "execute_result"
    }
   ],
   "source": [
    "from sklearn.model_selection import train_test_split\n",
    "\n",
    "# 得到 lilac 数据集中 feature 的全部序列: sepal_length,sepal_width,petal_length,petal_width\n",
    "feature_data = lilac_data.iloc[:, :-1]\n",
    "label_data = lilac_data[\"labels\"]  # 得到 lilac 数据集中 label 的序列\n",
    "\n",
    "X_train, X_test, y_train, y_test = train_test_split(\n",
    "    feature_data, label_data, test_size=0.3, random_state=2)\n",
    "\n",
    "X_test  # 输出 lilac_test 查看"
   ]
  },
  {
   "cell_type": "code",
   "execution_count": 19,
   "metadata": {},
   "outputs": [],
   "source": [
    "from sklearn.neighbors import KNeighborsClassifier\n",
    "\n",
    "def sklearn_classify(train_data, label_data, test_data, k_num):\n",
    "    # 使用 sklearn 构建 KNN 预测模型\n",
    "    knn = KNeighborsClassifier(n_neighbors=k_num)\n",
    "    # 训练数据集\n",
    "    knn.fit(train_data, label_data)\n",
    "    # 预测\n",
    "    predict_label = knn.predict(test_data)\n",
    "    # 返回预测值\n",
    "    return predict_label"
   ]
  },
  {
   "cell_type": "code",
   "execution_count": 20,
   "metadata": {},
   "outputs": [
    {
     "data": {
      "text/plain": [
       "array(['daphne', 'daphne', 'willow ', 'daphne', 'daphne', 'willow ',\n",
       "       'daphne', 'syringa', 'willow ', 'daphne', 'daphne', 'daphne',\n",
       "       'daphne', 'daphne', 'syringa', 'syringa', 'syringa', 'willow ',\n",
       "       'syringa', 'willow ', 'syringa', 'willow ', 'willow ', 'syringa',\n",
       "       'syringa', 'daphne', 'daphne', 'willow ', 'daphne', 'willow ',\n",
       "       'willow ', 'daphne', 'syringa', 'willow ', 'willow ', 'daphne',\n",
       "       'willow ', 'willow ', 'syringa', 'willow ', 'willow ', 'willow ',\n",
       "       'willow ', 'syringa', 'daphne'], dtype=object)"
      ]
     },
     "execution_count": 20,
     "metadata": {},
     "output_type": "execute_result"
    }
   ],
   "source": [
    "# 使用测试数据进行预测\n",
    "y_predict = sklearn_classify(X_train, y_train, X_test, 3)\n",
    "y_predict"
   ]
  },
  {
   "cell_type": "code",
   "execution_count": 21,
   "metadata": {},
   "outputs": [],
   "source": [
    "def get_accuracy(test_labels, pred_labels):\n",
    "    # 准确率计算函数\n",
    "    correct = np.sum(test_labels == pred_labels)  # 计算预测正确的数据个数\n",
    "    n = len(test_labels)  # 总测试集数据个数\n",
    "    accur = correct/n\n",
    "    return accur"
   ]
  },
  {
   "cell_type": "code",
   "execution_count": 22,
   "metadata": {},
   "outputs": [
    {
     "data": {
      "text/plain": [
       "0.7777777777777778"
      ]
     },
     "execution_count": 22,
     "metadata": {},
     "output_type": "execute_result"
    }
   ],
   "source": [
    "get_accuracy(y_test, y_predict)"
   ]
  },
  {
   "cell_type": "markdown",
   "metadata": {},
   "source": [
    "K值选择"
   ]
  },
  {
   "cell_type": "code",
   "execution_count": 24,
   "metadata": {},
   "outputs": [
    {
     "data": {
      "image/png": "[encoded data removed]",
      "text/plain": [
       "<Figure size 432x288 with 1 Axes>"
      ]
     },
     "metadata": {
      "needs_background": "light"
     },
     "output_type": "display_data"
    }
   ],
   "source": [
    "normal_accuracy = []  # 建立一个空的准确率列表\n",
    "k_value = range(2, 11)\n",
    "for k in k_value:\n",
    "    y_predict = sklearn_classify(X_train, y_train, X_test, k)\n",
    "    accuracy = get_accuracy(y_test, y_predict)\n",
    "    normal_accuracy.append(accuracy)\n",
    "\n",
    "plt.xlabel(\"k\")\n",
    "plt.ylabel(\"accuracy\")\n",
    "new_ticks = np.linspace(0.6, 0.9, 10)  # 设定 y 轴显示，从 0.6 到 0.9\n",
    "plt.yticks(new_ticks)\n",
    "plt.plot(k_value, normal_accuracy, c='r')\n",
    "plt.grid(True)  # 给画布增加网格"
   ]
  },
  {
   "cell_type": "markdown",
   "metadata": {},
   "source": [
    "从图像中可以得到，当 K=4 和 K=6 时，模型准确率相当。考虑到模型的泛化能力，所以这里选择 K=4，也就是更简单的模型。"
   ]
  },
  {
   "cell_type": "markdown",
   "metadata": {},
   "source": [
    "拓展：KD树，运行效率高"
   ]
  },
  {
   "cell_type": "code",
   "execution_count": 25,
   "metadata": {},
   "outputs": [],
   "source": [
    "kd_x = np.random.random((100000, 2))  # 生成 10 万条测试数据\n",
    "kd_y = np.random.randint(4, size=(100000))\n",
    "\n",
    "kd_knn = KNeighborsClassifier(n_neighbors=5, algorithm='kd_tree')  # kd 树搜索"
   ]
  },
  {
   "cell_type": "code",
   "execution_count": 26,
   "metadata": {},
   "outputs": [
    {
     "name": "stdout",
     "output_type": "stream",
     "text": [
      "Wall time: 78 ms\n"
     ]
    },
    {
     "data": {
      "text/plain": [
       "KNeighborsClassifier(algorithm='kd_tree', leaf_size=30, metric='minkowski',\n",
       "                     metric_params=None, n_jobs=None, n_neighbors=5, p=2,\n",
       "                     weights='uniform')"
      ]
     },
     "execution_count": 26,
     "metadata": {},
     "output_type": "execute_result"
    }
   ],
   "source": [
    "%time kd_knn.fit(kd_x, kd_y)  # 输出 kd 树搜索训练用时"
   ]
  },
  {
   "cell_type": "code",
   "execution_count": null,
   "metadata": {},
   "outputs": [],
   "source": []
  }
 ],
 "metadata": {
  "kernelspec": {
   "display_name": "Python 3",
   "language": "python",
   "name": "python3"
  },
  "language_info": {
   "codemirror_mode": {
    "name": "ipython",
    "version": 3
   },
   "file_extension": ".py",
   "mimetype": "text/x-python",
   "name": "python",
   "nbconvert_exporter": "python",
   "pygments_lexer": "ipython3",
   "version": "3.7.4"
  }
 },
 "nbformat": 4,
 "nbformat_minor": 2
}
