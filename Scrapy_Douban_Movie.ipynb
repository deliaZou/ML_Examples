{
 "cells": [
  {
   "cell_type": "code",
   "execution_count": null,
   "metadata": {},
   "outputs": [],
   "source": [
    "'''目标：\n",
    "1，爬取豆瓣电影top250\n",
    "2，爬取电影详情信息\n",
    "3，爬取演员详情信息\n",
    "'''"
   ]
  },
  {
   "cell_type": "code",
   "execution_count": 1,
   "metadata": {},
   "outputs": [
    {
     "data": {
      "text/plain": [
       "'接口：\\n\\n'"
      ]
     },
     "execution_count": 1,
     "metadata": {},
     "output_type": "execute_result"
    }
   ],
   "source": [
    "'''接口：\n",
    "1,  TOP 250 \thttp://api.douban.com/v2/movie/top250 \tstart: 数据的开始项;count: 单页条数\n",
    "\n",
    "'''"
   ]
  },
  {
   "cell_type": "code",
   "execution_count": 81,
   "metadata": {},
   "outputs": [],
   "source": [
    "import json\n",
    "import requests\n",
    "import os\n",
    "from tqdm import tqdm_notebook\n",
    "import operator"
   ]
  },
  {
   "cell_type": "code",
   "execution_count": 73,
   "metadata": {},
   "outputs": [],
   "source": [
    "#新建文件夹\n",
    "if not os.path.exists('top250'):\n",
    "    os.mkdir('top250')"
   ]
  },
  {
   "cell_type": "code",
   "execution_count": 124,
   "metadata": {},
   "outputs": [
    {
     "data": {
      "application/vnd.jupyter.widget-view+json": {
       "model_id": "40b3a16d3fe044308a05079abc7b744b",
       "version_major": 2,
       "version_minor": 0
      },
      "text/plain": [
       "HBox(children=(IntProgress(value=0, max=25), HTML(value='')))"
      ]
     },
     "metadata": {},
     "output_type": "display_data"
    },
    {
     "name": "stdout",
     "output_type": "stream",
     "text": [
      "\n"
     ]
    }
   ],
   "source": [
    "#爬取全部250部电影\n",
    "access_key = '0df993c66c0c636e29ecbb5344252a4a'  # api key\n",
    "headers = {'User-Agent': 'Mozilla/5.0 (Windows NT 10.0; Win64; x64) AppleWebKit/537.36 (KHTML, like Gecko) Chrome/55.0.2883.87 Safari/537.36'}\n",
    "for i in tqdm_notebook(range(25)):\n",
    "    url = f'https://api.douban.com/v2/movie/top250?apikey={access_key}&start={i*10}&count={10}'\n",
    "    \n",
    "    json_file_path = os.path.join('top250', '{}.json'.format(i))\n",
    "    if os.path.exists(json_file_path):  #若已爬过，跳过\n",
    "        continue  \n",
    "        \n",
    "    #防止超时，访问接口直到访问成功\n",
    "    while True:\n",
    "        try:\n",
    "            response = requests.get(url,headers = headers,timeout = 5)\n",
    "            break\n",
    "        except requests.exceptions.Timeout:\n",
    "            time.sleep(1)\n",
    "            \n",
    "    #写入文件\n",
    "    with open(json_file_path,'w',encoding='utf-8') as f:\n",
    "        f.write(json.dumps(json.loads(response.content.decode('utf-8')),indent=4,ensure_ascii=False))\n",
    "        #indent=4:对齐 ensure_ascii=False:编码中文 json.dumps()用于将字典形式的数据转化为字符串，json.loads()用于将字符串形式的数据转化为字典"
   ]
  },
  {
   "cell_type": "code",
   "execution_count": 125,
   "metadata": {},
   "outputs": [
    {
     "data": {
      "application/vnd.jupyter.widget-view+json": {
       "model_id": "3aae01e5a4c84027bfe20766de25fd38",
       "version_major": 2,
       "version_minor": 0
      },
      "text/plain": [
       "HBox(children=(IntProgress(value=0, max=25), HTML(value='')))"
      ]
     },
     "metadata": {},
     "output_type": "display_data"
    },
    {
     "name": "stdout",
     "output_type": "stream",
     "text": [
      "\n"
     ]
    }
   ],
   "source": [
    "#将上面取的文件合并为top250.json\n",
    "movies = []\n",
    "for json_file in tqdm_notebook(os.listdir('top250')):\n",
    "    json_file_path = os.path.join('top250', json_file)\n",
    "    with open(json_file_path,'r',encoding = 'utf8') as f:\n",
    "        \n",
    "        movies += json.load(f)['subjects']\n",
    "\n",
    "#按平均分降序排序\n",
    "movies = sorted(movies,\n",
    "               key = lambda movie: movie['rating']['average'],reverse= True)\n",
    "\n",
    "#写入文件\n",
    "with open('top250.json','w',encoding = 'utf8') as f:\n",
    "    f.write(json.dumps({'subjects':movies},indent=4,ensure_ascii=False))\n",
    "    "
   ]
  },
  {
   "cell_type": "code",
   "execution_count": null,
   "metadata": {},
   "outputs": [],
   "source": [
    "\n"
   ]
  },
  {
   "cell_type": "code",
   "execution_count": null,
   "metadata": {},
   "outputs": [],
   "source": []
  }
 ],
 "metadata": {
  "kernelspec": {
   "display_name": "Python 3",
   "language": "python",
   "name": "python3"
  },
  "language_info": {
   "codemirror_mode": {
    "name": "ipython",
    "version": 3
   },
   "file_extension": ".py",
   "mimetype": "text/x-python",
   "name": "python",
   "nbconvert_exporter": "python",
   "pygments_lexer": "ipython3",
   "version": "3.7.4"
  }
 },
 "nbformat": 4,
 "nbformat_minor": 2
}
