{
 "cells": [
  {
   "cell_type": "markdown",
   "metadata": {},
   "source": [
    "### 爬取所有标签下相关电影一百部"
   ]
  },
  {
   "cell_type": "code",
   "execution_count": 1,
   "metadata": {},
   "outputs": [],
   "source": [
    "import json\n",
    "import requests\n",
    "import os\n",
    "from tqdm import tqdm_notebook\n",
    "import operator\n",
    "import itertools\n",
    "import numpy as np\n",
    "access_key = '0df993c66c0c636e29ecbb5344252a4a'  # api key\n",
    "headers = {'User-Agent': 'Mozilla/5.0 (Windows NT 10.0; Win64; x64) AppleWebKit/537.36 (KHTML, like Gecko) Chrome/55.0.2883.87 Safari/537.36'}"
   ]
  },
  {
   "cell_type": "code",
   "execution_count": 6,
   "metadata": {},
   "outputs": [],
   "source": [
    "#批量获取接口数据的方法\n",
    "def get(url,headers):\n",
    "    while True:\n",
    "        try:\n",
    "            res = requests.get(url,headers = headers, timeout = 5)\n",
    "            return json.loads(res.content.decode('utf-8'))\n",
    "        except requests.exceptions.Timeout:\n",
    "            time.sleep(1)"
   ]
  },
  {
   "cell_type": "code",
   "execution_count": 7,
   "metadata": {},
   "outputs": [],
   "source": [
    "#获取电影标签\n",
    "tags = get('https://movie.douban.com/j/search_tags?type=movie&source=',headers)['tags']"
   ]
  },
  {
   "cell_type": "code",
   "execution_count": null,
   "metadata": {},
   "outputs": [],
   "source": [
    "#每一个标签下获取100部电影信息\n",
    "import time\n",
    "V = 100  # 尝试搜索次数，以获得更多结果\n",
    "id_list = []\n",
    "\n",
    "\n",
    "search_url = '\\\n",
    "https://movie.douban.com/j/search_subjects?type=movie&tag={}&sort=time&page_limit=20&page_start={}'\n",
    "\n",
    "\n",
    "for tag in tags:\n",
    "    print(f\"开始搜索标签「{tag}」相关的电影 id\")\n",
    "    for i in tqdm_notebook(range(V)):\n",
    "        url = search_url.format(tag, 20*i)\n",
    "        json_content = get(url,headers)\n",
    "        id_list += [x['id'] for x in json_content['subjects']]\n",
    "\n",
    "# 去重，一部电影对应多个标签\n",
    "id_list = list(set(id_list))\n",
    "\n",
    "# 写入本地文件\n",
    "with open('movie_id_list.json', 'w',encoding='utf-8') as f:\n",
    "    f.write(json.dumps({'id': id_list}, indent=4, ensure_ascii=False))"
   ]
  },
  {
   "cell_type": "code",
   "execution_count": null,
   "metadata": {},
   "outputs": [],
   "source": [
    "# 新建文件夹方便整理数据\n",
    "if not os.path.exists('movies'):\n",
    "    os.mkdir('movies')\n",
    "\n",
    "# 读取电影 id 数据\n",
    "with open('movie_id_list.json') as f:\n",
    "    id_list = json.load(f)['id']\n",
    "\n",
    "for movie_id in tqdm_notebook(id_list):\n",
    "    url = f'https://api.douban.com/v2/movie/subject/{movie_id}?apikey={access_key}'\n",
    "    json_path = os.path.join('movies', str(movie_id)+'.json')\n",
    "\n",
    "    # 数据已爬取\n",
    "    if os.path.exists(json_path):\n",
    "        with open(json_path) as f:\n",
    "            t = json.load(f)\n",
    "            '''\n",
    "            数据已爬取且没有出错，则跳过本条，例如返回:\n",
    "            {\n",
    "                \"msg\": \"rate_limit_exceeded2: 125.70.79.50\",\n",
    "                \"code\": 112,\n",
    "                \"request\": \"GET /v2/movie/subject/26611090\"\n",
    "            }\n",
    "            则是访问超过限制，重新爬取\n",
    "            '''\n",
    "            try:\n",
    "                if t['code'] == 112:\n",
    "                    pass\n",
    "            except KeyError:\n",
    "                continue\n",
    "    json_content = get(url,headers)\n",
    "    try:\n",
    "        # 返回的数据为上面提起的错误，则跳过这条\n",
    "        if json_content['code'] == 112:\n",
    "            print('访问超过限制，请稍后再试')\n",
    "            time.sleep(10)\n",
    "    except KeyError:\n",
    "        pass\n",
    "\n",
    "    with open(json_path, 'w',encoding='utf-8') as f:\n",
    "        f.write(json.dumps(json_content, indent=4, ensure_ascii=False))"
   ]
  },
  {
   "cell_type": "code",
   "execution_count": null,
   "metadata": {},
   "outputs": [],
   "source": [
    "movies = []\n",
    "for json_file in tqdm_notebook(os.listdir('movies')):\n",
    "    json_file_path = os.path.join('movies', json_file)\n",
    "    with open(json_file_path,encoding='utf-8') as f:\n",
    "        json_content = json.load(f)\n",
    "        movies += [json_content]\n",
    "\n",
    "# 写入文件\n",
    "with open('movies.json', 'w',encoding='utf-8') as f:\n",
    "    f.write(json.dumps({'movies': movies}, indent=4, ensure_ascii=False))"
   ]
  },
  {
   "cell_type": "markdown",
   "metadata": {},
   "source": [
    "###  分析不同标签下的电影"
   ]
  },
  {
   "cell_type": "code",
   "execution_count": 2,
   "metadata": {},
   "outputs": [
    {
     "data": {
      "text/plain": [
       "4499"
      ]
     },
     "execution_count": 2,
     "metadata": {},
     "output_type": "execute_result"
    }
   ],
   "source": [
    "with open('movies.json',encoding = 'utf-8') as f:\n",
    "    movies = json.load(f)['movies']\n",
    "len(movies)"
   ]
  },
  {
   "cell_type": "markdown",
   "metadata": {},
   "source": [
    "#### 不同视频源统计"
   ]
  },
  {
   "cell_type": "code",
   "execution_count": 14,
   "metadata": {},
   "outputs": [
    {
     "data": {
      "text/plain": [
       "{'爱奇艺视频': array([83.,  2.,  6., 13.,  0.,  2.,  1., 14., 23.,  3.,  0.,  4., 16.,\n",
       "         2.,  1.,  4.,  0.,  7., 20.,  1., 14., 42.,  0.,  4.,  2., 15.]),\n",
       " '优酷视频': array([69.,  2.,  7., 12.,  0.,  1.,  2., 12., 21.,  2.,  0.,  4., 11.,\n",
       "         2.,  0.,  2.,  0.,  4., 13.,  1., 12., 37.,  1.,  2.,  1., 11.]),\n",
       " '芒果TV': array([52.,  3.,  3.,  8.,  0.,  1.,  1.,  9., 19.,  0.,  0.,  1.,  9.,\n",
       "         0.,  0.,  3.,  0.,  4., 11.,  1.,  9., 28.,  0.,  4.,  1., 12.]),\n",
       " '腾讯视频': array([76.,  2.,  8., 11.,  0.,  1.,  1., 15., 23.,  2.,  0.,  4., 12.,\n",
       "         2.,  0.,  4.,  0.,  4., 14.,  1., 15., 41.,  1.,  3.,  1., 13.]),\n",
       " '搜狐视频': array([7., 0., 0., 1., 0., 0., 0., 0., 2., 0., 0., 0., 4., 0., 0., 0., 0.,\n",
       "        4., 4., 0., 1., 0., 0., 0., 0., 4.]),\n",
       " '欢喜首映': array([0., 1., 0., 0., 0., 0., 0., 0., 1., 0., 0., 0., 0., 0., 0., 0., 0.,\n",
       "        1., 0., 0., 0., 0., 0., 0., 0., 0.]),\n",
       " '1905电影网': array([7., 0., 0., 2., 0., 0., 1., 0., 3., 0., 0., 0., 0., 1., 0., 0., 0.,\n",
       "        0., 0., 0., 0., 4., 0., 0., 0., 0.]),\n",
       " '哔哩哔哩': array([ 1., 12.,  1.,  3.,  0.,  0.,  0.,  1.,  3.,  0.,  0.,  0.,  3.,\n",
       "         0.,  0.,  1.,  0.,  1.,  2.,  0.,  8.,  7.,  0.,  0.,  0.,  4.])}"
      ]
     },
     "execution_count": 14,
     "metadata": {},
     "output_type": "execute_result"
    }
   ],
   "source": [
    "# 统计视频源和电影类型\n",
    "# source-> [need_pay 数量，非 need_pay 数量，相应电影类型数量]\n",
    "movie_types = list(\n",
    "    set(itertools.chain(*[movie['genres'] for movie in movies])))\n",
    "\n",
    "# 保存统计结果\n",
    "source_dict = {}\n",
    "\n",
    "for movie in movies:\n",
    "    # 该视频没有视频源，跳过\n",
    "    try:\n",
    "        if len(movie['videos']) == 0:\n",
    "            continue\n",
    "        # 没有 videos 这个属性也跳过\n",
    "    except:\n",
    "        continue\n",
    "    genres = movie['genres']\n",
    "    for source in movie['videos']:\n",
    "        source_name = source['source']['name']\n",
    "        need_pay = source['need_pay']\n",
    "        # 如果没有该视频源则都初始化为 0\n",
    "        if source_name not in source_dict:\n",
    "            source_dict[source_name] = np.zeros((2+len(movie_types), ))\n",
    "        # 需要付费的数量\n",
    "        if need_pay:\n",
    "            source_dict[source_name][0] += 1\n",
    "        # 不需要付费的数量\n",
    "        else:\n",
    "            source_dict[source_name][1] += 1\n",
    "        # 统计每个视频源不同类型电影的数量\n",
    "        for movie_type in genres:\n",
    "            # 在统计 dict 中的位置\n",
    "            index = movie_types.index(movie_type)\n",
    "            source_dict[source_name][2+index] += 1\n",
    "source_dict"
   ]
  },
  {
   "cell_type": "markdown",
   "metadata": {},
   "source": [
    "#### 使用条形统计图可视化这些数据"
   ]
  },
  {
   "cell_type": "code",
   "execution_count": null,
   "metadata": {},
   "outputs": [],
   "source": [
    "!pip install plotly"
   ]
  },
  {
   "cell_type": "code",
   "execution_count": 5,
   "metadata": {},
   "outputs": [
    {
     "ename": "ModuleNotFoundError",
     "evalue": "No module named 'plotly'",
     "output_type": "error",
     "traceback": [
      "\u001b[1;31m---------------------------------------------------------------------------\u001b[0m",
      "\u001b[1;31mModuleNotFoundError\u001b[0m                       Traceback (most recent call last)",
      "\u001b[1;32m<ipython-input-5-29f73cbd77ae>\u001b[0m in \u001b[0;36m<module>\u001b[1;34m\u001b[0m\n\u001b[1;32m----> 1\u001b[1;33m \u001b[1;32mfrom\u001b[0m \u001b[0mplotly\u001b[0m\u001b[1;33m.\u001b[0m\u001b[0moffline\u001b[0m \u001b[1;32mimport\u001b[0m \u001b[0minit_notebook_mode\u001b[0m\u001b[1;33m,\u001b[0m \u001b[0miplot\u001b[0m\u001b[1;33m\u001b[0m\u001b[1;33m\u001b[0m\u001b[0m\n\u001b[0m\u001b[0;32m      2\u001b[0m \u001b[1;32mfrom\u001b[0m \u001b[0mplotly\u001b[0m \u001b[1;32mimport\u001b[0m \u001b[0mgraph_objs\u001b[0m \u001b[1;32mas\u001b[0m \u001b[0mgo\u001b[0m\u001b[1;33m\u001b[0m\u001b[1;33m\u001b[0m\u001b[0m\n\u001b[0;32m      3\u001b[0m trace1 = go.Bar(\n\u001b[0;32m      4\u001b[0m     \u001b[0mx\u001b[0m\u001b[1;33m=\u001b[0m\u001b[0mlist\u001b[0m\u001b[1;33m(\u001b[0m\u001b[0msource_dict\u001b[0m\u001b[1;33m.\u001b[0m\u001b[0mkeys\u001b[0m\u001b[1;33m(\u001b[0m\u001b[1;33m)\u001b[0m\u001b[1;33m)\u001b[0m\u001b[1;33m,\u001b[0m\u001b[1;33m\u001b[0m\u001b[1;33m\u001b[0m\u001b[0m\n\u001b[0;32m      5\u001b[0m     \u001b[0my\u001b[0m\u001b[1;33m=\u001b[0m\u001b[0mnp\u001b[0m\u001b[1;33m.\u001b[0m\u001b[0marray\u001b[0m\u001b[1;33m(\u001b[0m\u001b[0mlist\u001b[0m\u001b[1;33m(\u001b[0m\u001b[0msource_dict\u001b[0m\u001b[1;33m.\u001b[0m\u001b[0mvalues\u001b[0m\u001b[1;33m(\u001b[0m\u001b[1;33m)\u001b[0m\u001b[1;33m)\u001b[0m\u001b[1;33m)\u001b[0m\u001b[1;33m[\u001b[0m\u001b[1;33m:\u001b[0m\u001b[1;33m,\u001b[0m \u001b[1;36m0\u001b[0m\u001b[1;33m]\u001b[0m\u001b[1;33m,\u001b[0m\u001b[1;33m\u001b[0m\u001b[1;33m\u001b[0m\u001b[0m\n",
      "\u001b[1;31mModuleNotFoundError\u001b[0m: No module named 'plotly'"
     ]
    }
   ],
   "source": [
    "from plotly.offline import init_notebook_mode, iplot\n",
    "from plotly import graph_objs as go\n",
    "trace1 = go.Bar(\n",
    "    x=list(source_dict.keys()),\n",
    "    y=np.array(list(source_dict.values()))[:, 0],\n",
    "    name='需要付费'\n",
    ")\n",
    "trace2 = go.Bar(\n",
    "    x=list(source_dict.keys()),\n",
    "    y=np.array(list(source_dict.values()))[:, 1],\n",
    "    name='不需要付费'\n",
    ")\n",
    "\n",
    "data = [trace1, trace2]\n",
    "layout = go.Layout(\n",
    "    barmode='stack'\n",
    ")\n",
    "\n",
    "fig = go.Figure(data=data, layout=layout)\n",
    "iplot(fig, filename='视频源是否需要付费统计')"
   ]
  },
  {
   "cell_type": "markdown",
   "metadata": {},
   "source": [
    "大一些的在线视频平台一般都很注重版权，付费和非付费对半分。而哔哩哔哩则几乎都是不需要付费的，当然哔哩哔哩的视频数量也不多。同时，像乐视、搜狐这些老牌视频网站，虽然名气很大，反而拥有的电影数目并不多。所以，这些平台的会员一般不值得购买。"
   ]
  },
  {
   "cell_type": "markdown",
   "metadata": {},
   "source": [
    "#### 使用饼状图可视化 腾讯视频 拥有的电影中不同类型电影的组成"
   ]
  },
  {
   "cell_type": "code",
   "execution_count": null,
   "metadata": {},
   "outputs": [],
   "source": [
    "# 统计标签出现的次数\n",
    "values = source_dict['腾讯视频'][2:]\n",
    "# 绘图\n",
    "trace = go.Pie(labels=movie_types, values=values)\n",
    "iplot([trace], filename='腾讯视频电影类型百分比')"
   ]
  },
  {
   "cell_type": "markdown",
   "metadata": {},
   "source": [
    "和统计豆瓣评分 TOP 250 的结果类似，占大头的还是剧情、喜剧、动作等类型的电影。"
   ]
  }
 ],
 "metadata": {
  "kernelspec": {
   "display_name": "Python 3",
   "language": "python",
   "name": "python3"
  },
  "language_info": {
   "codemirror_mode": {
    "name": "ipython",
    "version": 3
   },
   "file_extension": ".py",
   "mimetype": "text/x-python",
   "name": "python",
   "nbconvert_exporter": "python",
   "pygments_lexer": "ipython3",
   "version": "3.7.4"
  }
 },
 "nbformat": 4,
 "nbformat_minor": 2
}
